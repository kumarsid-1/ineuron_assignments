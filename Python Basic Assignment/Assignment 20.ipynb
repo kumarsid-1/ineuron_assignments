{
 "cells": [
  {
   "cell_type": "code",
   "execution_count": null,
   "id": "8526226a-a8af-452e-a468-8476a5f24faf",
   "metadata": {},
   "outputs": [],
   "source": [
    "1. Set the variable test1 to the string 'This is a test of the emergency text system,' and save test1 to a file named test.txt.\n",
    "\n",
    "\n",
    "Answer to question 1:"
   ]
  },
  {
   "cell_type": "code",
   "execution_count": 1,
   "id": "6cbd1e11-68dd-4c32-aa71-cf36acfa50cf",
   "metadata": {},
   "outputs": [],
   "source": [
    "test1 = 'This is a test of the emergency text system,'\n",
    "with open('test.txt','w') as f:\n",
    "    f.write(test1)"
   ]
  },
  {
   "cell_type": "code",
   "execution_count": null,
   "id": "72db92da-7b15-4ee4-a59d-2f189a925c6b",
   "metadata": {},
   "outputs": [],
   "source": [
    "2. Read the contents of the file test.txt into the variable test2. Is there a difference between test 1 and test 2?\n",
    "\n",
    "\n",
    "Answer to question 2:\n",
    "    \n",
    "    \n",
    "There is no difference between test1 and test2."
   ]
  },
  {
   "cell_type": "code",
   "execution_count": 5,
   "id": "8acf42f2-37b4-4790-a5a2-eabedd044f24",
   "metadata": {},
   "outputs": [
    {
     "name": "stdout",
     "output_type": "stream",
     "text": [
      "This is a test of the emergency text system,\n"
     ]
    }
   ],
   "source": [
    "with open('test.txt','r') as f:\n",
    "    test2 = f.read()\n",
    "    \n",
    "print(test2)"
   ]
  },
  {
   "cell_type": "code",
   "execution_count": null,
   "id": "bec5de8f-a577-4ab7-95cc-8b57852d1a3e",
   "metadata": {},
   "outputs": [],
   "source": [
    "3. Create a CSV file called books.csv by using these lines:\n",
    "    \n",
    "    \n",
    "title,author,year\n",
    "The Weirdstone of Brisingamen,Alan Garner,1960\n",
    "Perdido Street Station,China Miéville,2000\n",
    "Thud!,Terry Pratchett,2005\n",
    "The Spellman Files,Lisa Lutz,2007\n",
    "Small Gods,Terry Pratchett,1992\n",
    "\n",
    "\n",
    "Answer to question 3:"
   ]
  },
  {
   "cell_type": "code",
   "execution_count": 6,
   "id": "ba7bcccf-ffb7-43ba-8a4d-4193742d6cef",
   "metadata": {},
   "outputs": [],
   "source": [
    "data = '''title,author,year\n",
    "The Weirdstone of Brisingamen,Alan Garner,1960\n",
    "Perdido Street Station,China Miéville,2000\n",
    "Thud!,Terry Pratchett,2005\n",
    "The Spellman Files,Lisa Lutz,2007\n",
    "Small Gods,Terry Pratchett,1992'''\n",
    "\n",
    "with open('books.csv','w') as file:\n",
    "    file.write(data)"
   ]
  },
  {
   "cell_type": "code",
   "execution_count": null,
   "id": "aac39781-47d6-4337-a52b-0cfc359c9477",
   "metadata": {},
   "outputs": [],
   "source": [
    "4. Use the sqlite3 module to create a SQLite database called books.db, and a table called books with these fields: title (text), author (text), and year (integer).\n",
    "\n",
    "\n",
    "Answer to question 4:"
   ]
  },
  {
   "cell_type": "code",
   "execution_count": 1,
   "id": "5a034998-ecd7-4cda-a784-089305916e64",
   "metadata": {},
   "outputs": [],
   "source": [
    "import sqlite3\n",
    "db = sqlite3.connect('books.db')\n",
    "c=db.cursor()\n",
    "c.execute(\"CREATE TABLE books (title text, author text, year int)\")\n",
    "db.commit()\n",
    "db.close()"
   ]
  },
  {
   "cell_type": "code",
   "execution_count": null,
   "id": "896ac1c2-98c4-46e7-89e0-c4b549a34f8e",
   "metadata": {},
   "outputs": [],
   "source": [
    "5. Read books.csv and insert its data into the books table.\n",
    "\n",
    "\n",
    "\n",
    "Answer to question 5:"
   ]
  },
  {
   "cell_type": "code",
   "execution_count": 2,
   "id": "fcac811b-224e-4492-bfe9-5e3be90a3a5d",
   "metadata": {},
   "outputs": [],
   "source": [
    "import sqlite3\n",
    "import csv\n",
    "conn = sqlite3.connect(\"books.db\")\n",
    "cursor = conn.cursor()\n",
    "with open(\"books.csv\",\"r\") as file:\n",
    "    books = csv.DictReader(file)\n",
    "    for book in books:\n",
    "        cursor.execute(\"INSERT INTO books VALUES (?,?,?)\",(book['title'],book['author'],book['year']))\n",
    "conn.commit()\n",
    "conn.close()"
   ]
  },
  {
   "cell_type": "code",
   "execution_count": null,
   "id": "007698df-d3bc-465c-8da7-caf2f0aaef8e",
   "metadata": {},
   "outputs": [],
   "source": [
    "6. Select and print the title column from the books table in alphabetical order.\n",
    "\n",
    "\n",
    "Answer to question 6:"
   ]
  },
  {
   "cell_type": "code",
   "execution_count": 4,
   "id": "25526777-9874-4e8c-b84c-b3d9bf05a557",
   "metadata": {},
   "outputs": [
    {
     "name": "stdout",
     "output_type": "stream",
     "text": [
      "Perdido Street Station\n",
      "Small Gods\n",
      "The Spellman Files\n",
      "The Weirdstone of Brisingamen\n",
      "Thud!\n"
     ]
    }
   ],
   "source": [
    "import sqlite3\n",
    "db = sqlite3.connect('books.db')\n",
    "c = db.cursor()\n",
    "o = c.execute(\"SELECT title FROM books ORDER BY title ASC\")\n",
    "for ele in o:\n",
    "    print(ele[0])\n",
    "db.commit()\n",
    "db.close()"
   ]
  },
  {
   "cell_type": "code",
   "execution_count": null,
   "id": "80befc90-3791-4911-b3eb-854d507064d7",
   "metadata": {},
   "outputs": [],
   "source": [
    "7. From the books table, select and print all columns in the order of publication.\n",
    "\n",
    "\n",
    "Answer to question 7:"
   ]
  },
  {
   "cell_type": "code",
   "execution_count": 6,
   "id": "eafcd519-de5b-478e-ac44-4f472b3cf04c",
   "metadata": {},
   "outputs": [
    {
     "name": "stdout",
     "output_type": "stream",
     "text": [
      "('The Weirdstone of Brisingamen', 'Alan Garner', 1960)\n",
      "('Small Gods', 'Terry Pratchett', 1992)\n",
      "('Perdido Street Station', 'China Miéville', 2000)\n",
      "('Thud!', 'Terry Pratchett', 2005)\n",
      "('The Spellman Files', 'Lisa Lutz', 2007)\n"
     ]
    }
   ],
   "source": [
    "import sqlite3\n",
    "db = sqlite3.connect('books.db')\n",
    "cursor = db.cursor()\n",
    "o = cursor.execute(\"SELECT * FROM books ORDER BY year\")\n",
    "for i in o:\n",
    "    print(i)"
   ]
  }
 ],
 "metadata": {
  "kernelspec": {
   "display_name": "Python 3 (ipykernel)",
   "language": "python",
   "name": "python3"
  },
  "language_info": {
   "codemirror_mode": {
    "name": "ipython",
    "version": 3
   },
   "file_extension": ".py",
   "mimetype": "text/x-python",
   "name": "python",
   "nbconvert_exporter": "python",
   "pygments_lexer": "ipython3",
   "version": "3.10.6"
  }
 },
 "nbformat": 4,
 "nbformat_minor": 5
}
