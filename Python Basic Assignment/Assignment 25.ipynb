{
 "cells": [
  {
   "cell_type": "code",
   "execution_count": null,
   "id": "340cc4b5-2890-43ae-b8b3-451d0a8c3b0c",
   "metadata": {},
   "outputs": [],
   "source": [
    "1) What is the difference between enclosing a list comprehension in square brackets and parentheses?\n",
    "\n",
    "\n",
    "Answer to question 1:\n",
    "    \n",
    "    \n",
    "Enclosing a list comprehension in square brackets returns a list, and enclosing a list comprehension in parentheses returns a generator object."
   ]
  },
  {
   "cell_type": "code",
   "execution_count": 1,
   "id": "12f673bd-e024-4271-b3e9-d10d63c34e3b",
   "metadata": {},
   "outputs": [
    {
     "name": "stdout",
     "output_type": "stream",
     "text": [
      "[0, 1, 2, 3, 4, 5, 6, 7, 8, 9] <class 'list'>\n",
      "<generator object <genexpr> at 0x7feb7ae83bc0> <class 'generator'>\n"
     ]
    }
   ],
   "source": [
    "l = [i for i in range(10)]\n",
    "print(l, type(l))\n",
    "g = (i for i in range(10))\n",
    "print(g, type(g))"
   ]
  },
  {
   "cell_type": "code",
   "execution_count": null,
   "id": "a1e9f516-7249-4dee-a5c5-b271d37f6e66",
   "metadata": {},
   "outputs": [],
   "source": [
    "2) What is the relationship between generators and iterators?\n",
    "\n",
    "\n",
    "Answer to question 2:\n",
    "    \n",
    "    \n",
    "An iterator is an object which contains a countable number of values and it is used to iterate over iterable objects like list, tuples, sets, etc. \n",
    "Iterators are implemented using a class. \n",
    "It follows lazy evaluation where the evaluation of the expression will be on hold and stored in the memory until the item is called specifically which helps us to avoid repeated evaluation. \n",
    "As lazy evaluation is implemented, it requires only 1 memory location to process the value and when we are using a large dataset then, \n",
    "wastage of RAM space will be reduced the need to load the entire dataset at the same time will not be there.\n",
    "For an iterator: iter() keyword is used to create an iterator containing an iterable object.next() keyword is used to call the next element in the iterable object.\n",
    "\n",
    "Similarly Generators are an another way of creating iterators in a simple way where it uses the keyword yield statement instead of return statement in a defined function.\n",
    "Generators are implemented using a function. Just as iterators, generators also follow lazy evaluation.\n",
    "Here, the yield function returns the data without affecting or exiting the function. \n",
    "It will return a sequence of data in an iterable format where we need to iterate over the sequence to use the data as they won’t store the entire sequence in the memory."
   ]
  },
  {
   "cell_type": "code",
   "execution_count": null,
   "id": "da200f1e-5fe4-4851-b145-d82981d1989c",
   "metadata": {},
   "outputs": [],
   "source": [
    "3) What are the signs that a function is a generator function?\n",
    "\n",
    "\n",
    "Answer to question 3:\n",
    "    \n",
    "    \n",
    "A generator function uses a yield statement instead of a return statement. A generator function will always return a iterable object called generator.\n",
    "A normal function can return a string/list/tuple/dict/NoneType ... etc."
   ]
  },
  {
   "cell_type": "code",
   "execution_count": null,
   "id": "c61c160f-7cbf-4e35-97c0-a7bb52d27871",
   "metadata": {},
   "outputs": [],
   "source": [
    "4) What is the purpose of a yield statement?\n",
    "\n",
    "\n",
    "Answer to question 4:\n",
    "    \n",
    "    \n",
    "The yield statement suspends function’s execution and sends a value back to the caller, but retains enough state to enable function to resume where it is left off. \n",
    "When resumed, the function continues execution immediately after the last yield run. \n",
    "This allows its code to produce a series of values over time, rather than computing them at once and sending them back like a list."
   ]
  },
  {
   "cell_type": "code",
   "execution_count": null,
   "id": "5089ef88-9ea7-40a7-b7b0-498d0479e269",
   "metadata": {},
   "outputs": [],
   "source": [
    "5) What is the relationship between map calls and list comprehensions? Make a comparison and contrast between the two ?\n",
    "\n",
    "\n",
    "Answer to question 5:\n",
    "    \n",
    "    \n",
    "a) Map is faster in case of calling an already defined function on a set of values.\n",
    "b) List comprehension is more concise and easier to read as compared to map.\n",
    "c) List comprehension is faster than map when we need to evaluate expressions that are too long or complicated to express.\n",
    "d) List comprehension are used when a list of results is required as final output.but map only returns a map object. it needs to be explicitly coverted to desired datatype."
   ]
  }
 ],
 "metadata": {
  "kernelspec": {
   "display_name": "Python 3 (ipykernel)",
   "language": "python",
   "name": "python3"
  },
  "language_info": {
   "codemirror_mode": {
    "name": "ipython",
    "version": 3
   },
   "file_extension": ".py",
   "mimetype": "text/x-python",
   "name": "python",
   "nbconvert_exporter": "python",
   "pygments_lexer": "ipython3",
   "version": "3.10.6"
  }
 },
 "nbformat": 4,
 "nbformat_minor": 5
}
