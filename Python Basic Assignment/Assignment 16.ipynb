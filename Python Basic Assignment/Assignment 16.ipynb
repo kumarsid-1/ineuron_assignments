{
 "cells": [
  {
   "cell_type": "code",
   "execution_count": null,
   "id": "a079460f-13f8-4391-bdd3-b5f74a256e1d",
   "metadata": {},
   "outputs": [],
   "source": [
    "1. Create a list called years_list, starting with the year of your birth, and each year thereafter until the year of your fifth birthday. \n",
    "For example, if you were born in 1980. the list would be years_list = [1980, 1981, 1982, 1983, 1984, 1985].\n",
    "\n",
    "\n",
    "Answer to question 1:"
   ]
  },
  {
   "cell_type": "code",
   "execution_count": 4,
   "id": "bbd00043-c618-4b52-98df-7165b775e5a2",
   "metadata": {},
   "outputs": [
    {
     "name": "stdout",
     "output_type": "stream",
     "text": [
      "[1999, 2000, 2001, 2002, 2003, 2004]\n"
     ]
    }
   ],
   "source": [
    "years_list = []\n",
    "for i in range(1999, 1999+6):\n",
    "    years_list.append(i)\n",
    "    \n",
    "print(years_list)"
   ]
  },
  {
   "cell_type": "code",
   "execution_count": null,
   "id": "a84f4a7c-a8b5-4b07-aa53-c949fe2db6e6",
   "metadata": {},
   "outputs": [],
   "source": [
    "2. In which year in years_list was your third birthday? Remember, you were 0 years of age for your first year.\n",
    "\n",
    "\n",
    "Answer to question 2:"
   ]
  },
  {
   "cell_type": "code",
   "execution_count": 5,
   "id": "e96aa2d3-c4ee-43e8-a01d-ed3c3adbe525",
   "metadata": {},
   "outputs": [
    {
     "name": "stdout",
     "output_type": "stream",
     "text": [
      "2002\n"
     ]
    }
   ],
   "source": [
    "print(years_list[3])"
   ]
  },
  {
   "cell_type": "code",
   "execution_count": null,
   "id": "6846470a-8eb3-4cfe-a8d2-efafbc0d061a",
   "metadata": {},
   "outputs": [],
   "source": [
    "3.In the years list, which year were you the oldest?\n",
    "\n",
    "\n",
    "Answer to question 3:"
   ]
  },
  {
   "cell_type": "code",
   "execution_count": 6,
   "id": "5be0ee66-08d3-4ea4-9448-83ed797939d2",
   "metadata": {},
   "outputs": [
    {
     "name": "stdout",
     "output_type": "stream",
     "text": [
      "2004\n"
     ]
    }
   ],
   "source": [
    "print(years_list[-1])"
   ]
  },
  {
   "cell_type": "code",
   "execution_count": null,
   "id": "96491953-ab0e-46c2-85fe-bccdd4a1791e",
   "metadata": {},
   "outputs": [],
   "source": [
    "4. Make a list called things with these three strings as elements: \"mozzarella\", \"cinderella\", \"salmonella\".\n",
    "\n",
    "\n",
    "Answer to question 4:\n",
    "    \n",
    "things = ['mozzarella', 'cinderella', 'salmonella']"
   ]
  },
  {
   "cell_type": "code",
   "execution_count": null,
   "id": "a5a01308-9c33-495a-b146-76f480e8bcfb",
   "metadata": {},
   "outputs": [],
   "source": [
    "5. Capitalize the element in things that refers to a person and then print the list. Did it change the element in the list?\n",
    "\n",
    "\n",
    "Answer to question 5:"
   ]
  },
  {
   "cell_type": "code",
   "execution_count": 8,
   "id": "db42cd8c-b77b-4b4d-8fd2-61fd4a2ef3c3",
   "metadata": {},
   "outputs": [
    {
     "name": "stdout",
     "output_type": "stream",
     "text": [
      "['Mozzarella', 'Cinderella', 'Salmonella']\n"
     ]
    }
   ],
   "source": [
    "things = ['mozzarella', 'cinderella', 'salmonella']\n",
    "cthings=[]\n",
    "for i in things:\n",
    "    z=i.capitalize()\n",
    "    cthings.append(z)\n",
    "print(cthings)"
   ]
  },
  {
   "cell_type": "code",
   "execution_count": null,
   "id": "81f1f880-69d7-4808-bca8-1c5d559a9e25",
   "metadata": {},
   "outputs": [],
   "source": [
    "6. Make a surprise list with the elements \"Groucho,\" \"Chico,\" and \"Harpo.\"\n",
    "\n",
    "\n",
    "Answer to question 6:"
   ]
  },
  {
   "cell_type": "code",
   "execution_count": 9,
   "id": "caba321c-2651-4edd-9a9f-74d2ee7ffe68",
   "metadata": {},
   "outputs": [
    {
     "name": "stdout",
     "output_type": "stream",
     "text": [
      "['Groucho', 'Chico', 'Harpo']\n"
     ]
    }
   ],
   "source": [
    "suprise_list = ['Groucho','Chico','Harpo']\n",
    "print(suprise_list)"
   ]
  },
  {
   "cell_type": "code",
   "execution_count": null,
   "id": "385417b3-5475-48cc-b6df-b740933b545f",
   "metadata": {},
   "outputs": [],
   "source": [
    "7. Lowercase the last element of the surprise list, reverse it, and then capitalize it.\n",
    "\n",
    "\n",
    "Answer to question 7:"
   ]
  },
  {
   "cell_type": "code",
   "execution_count": 10,
   "id": "f6f55cc8-0c23-4868-bfa6-fcb9d93c8d5e",
   "metadata": {},
   "outputs": [
    {
     "name": "stdout",
     "output_type": "stream",
     "text": [
      "Oprah\n"
     ]
    }
   ],
   "source": [
    "print(suprise_list[-1].lower()[::-1].capitalize())"
   ]
  },
  {
   "cell_type": "code",
   "execution_count": null,
   "id": "271dd29b-e6f9-4950-bc5c-a7eaae964b70",
   "metadata": {},
   "outputs": [],
   "source": [
    "8. Make an English-to-French dictionary called e2f and print it. Here are your starter words: dog is chien, cat is chat, and walrus is morse.\n",
    "\n",
    "\n",
    "Answer to question 8:"
   ]
  },
  {
   "cell_type": "code",
   "execution_count": 11,
   "id": "1aa8e711-9d6b-455c-94b4-483f5f7d4bce",
   "metadata": {},
   "outputs": [
    {
     "name": "stdout",
     "output_type": "stream",
     "text": [
      "{'dog': 'chien', 'cat': 'chat', 'walrus': 'morse'}\n"
     ]
    }
   ],
   "source": [
    "e2f = {'dog':'chien','cat':'chat','walrus':'morse'}\n",
    "print(e2f)"
   ]
  },
  {
   "cell_type": "code",
   "execution_count": null,
   "id": "86aa7e88-66ca-47d4-ab44-94005dd9d6ad",
   "metadata": {},
   "outputs": [],
   "source": [
    "10. Make a French-to-English dictionary called f2e from e2f. Use the items method.\n",
    "\n",
    "\n",
    "Answer to question 10:"
   ]
  },
  {
   "cell_type": "code",
   "execution_count": 12,
   "id": "0fff59d4-7072-4467-a7fb-b1dd3415e74c",
   "metadata": {},
   "outputs": [
    {
     "name": "stdout",
     "output_type": "stream",
     "text": [
      "{'chien': 'dog', 'chat': 'cat', 'morse': 'walrus'}\n"
     ]
    }
   ],
   "source": [
    "e2f = {'dog':'chien','cat':'chat','walrus':'morse'}\n",
    "f2e = {v: k for k, v in e2f.items()}\n",
    "print(f2e)"
   ]
  },
  {
   "cell_type": "code",
   "execution_count": null,
   "id": "26f3d502-84e4-498d-84a6-f7d27587eca9",
   "metadata": {},
   "outputs": [],
   "source": [
    "11. Print the English version of the French word chien using f2e.\n",
    "\n",
    "\n",
    "Answer to question 11:"
   ]
  },
  {
   "cell_type": "code",
   "execution_count": 13,
   "id": "a403f9fb-e3a2-457f-aa3b-092076bb2d0b",
   "metadata": {},
   "outputs": [
    {
     "data": {
      "text/plain": [
       "'dog'"
      ]
     },
     "execution_count": 13,
     "metadata": {},
     "output_type": "execute_result"
    }
   ],
   "source": [
    "f2e['chien']"
   ]
  },
  {
   "cell_type": "code",
   "execution_count": null,
   "id": "028262cd-189d-4a55-98c6-5301cd838b68",
   "metadata": {},
   "outputs": [],
   "source": [
    "12. Make and print a set of English words from the keys in e2f.\n",
    "\n",
    "\n",
    "Answer to question 12:"
   ]
  },
  {
   "cell_type": "code",
   "execution_count": 14,
   "id": "1147a7dc-f9b4-45c4-b109-7c2f36f1eb31",
   "metadata": {},
   "outputs": [
    {
     "data": {
      "text/plain": [
       "['dog', 'cat', 'walrus']"
      ]
     },
     "execution_count": 14,
     "metadata": {},
     "output_type": "execute_result"
    }
   ],
   "source": [
    "list(e2f.keys())"
   ]
  },
  {
   "cell_type": "code",
   "execution_count": null,
   "id": "60ff1ce7-8a16-4f89-a3e8-6c68686cb12b",
   "metadata": {},
   "outputs": [],
   "source": [
    "13. Make a multilevel dictionary called life. Use these strings for the topmost keys: 'animals', 'plants', and 'other'. \n",
    "Make the 'animals' key refer to another dictionary with the keys 'cats', 'octopi', and 'emus'. \n",
    "Make the 'cats' key refer to a list of strings with the values 'Henri', 'Grumpy', and 'Lucy'. \n",
    "Make all the other keys refer to empty dictionaries.\n",
    "\n",
    "\n",
    "Answer to question 13:"
   ]
  },
  {
   "cell_type": "code",
   "execution_count": 31,
   "id": "0683fe5c-0ea1-471e-b2ca-3588decb543d",
   "metadata": {},
   "outputs": [],
   "source": [
    "life = {'animals' : {'cats': ['Henri', 'Grumpy', 'Lucy'], 'octopi' :{}, 'emus' : {}},\n",
    "       'plants': {},\n",
    "        'other' : {}\n",
    "       }"
   ]
  },
  {
   "cell_type": "code",
   "execution_count": 32,
   "id": "95637fd7-af9f-401b-baf6-413ce13d1e6a",
   "metadata": {},
   "outputs": [
    {
     "data": {
      "text/plain": [
       "{'animals': {'cats': ['Henri', 'Grumpy', 'Lucy'], 'octopi': {}, 'emus': {}},\n",
       " 'plants': {},\n",
       " 'other': {}}"
      ]
     },
     "execution_count": 32,
     "metadata": {},
     "output_type": "execute_result"
    }
   ],
   "source": [
    "life"
   ]
  },
  {
   "cell_type": "code",
   "execution_count": null,
   "id": "4f7cbee5-08c4-4975-9409-2a919d7f3d3e",
   "metadata": {},
   "outputs": [],
   "source": [
    "14. Print the top-level keys of life.\n",
    "\n",
    "\n",
    "Answer to question 14:"
   ]
  },
  {
   "cell_type": "code",
   "execution_count": 33,
   "id": "1917e63e-13b1-425f-b41d-eb788580bc70",
   "metadata": {},
   "outputs": [
    {
     "data": {
      "text/plain": [
       "dict_keys(['animals', 'plants', 'other'])"
      ]
     },
     "execution_count": 33,
     "metadata": {},
     "output_type": "execute_result"
    }
   ],
   "source": [
    "life.keys()"
   ]
  },
  {
   "cell_type": "code",
   "execution_count": null,
   "id": "414879eb-ad82-4ba7-b6ea-be499ec375cf",
   "metadata": {},
   "outputs": [],
   "source": [
    "15. Print the keys for life['animals'].\n",
    "\n",
    "\n",
    "Answer to question 15:"
   ]
  },
  {
   "cell_type": "code",
   "execution_count": 34,
   "id": "5a1c6a31-dff1-4c3a-b18c-eaa9378ac28a",
   "metadata": {},
   "outputs": [
    {
     "data": {
      "text/plain": [
       "dict_keys(['cats', 'octopi', 'emus'])"
      ]
     },
     "execution_count": 34,
     "metadata": {},
     "output_type": "execute_result"
    }
   ],
   "source": [
    "life['animals'].keys()"
   ]
  },
  {
   "cell_type": "code",
   "execution_count": null,
   "id": "a4b2c4bd-fe9e-4afb-80a2-5d0029ed0898",
   "metadata": {},
   "outputs": [],
   "source": [
    "16. Print the values for life['animals']['cats']\n",
    "\n",
    "\n",
    "Answer to question 16:"
   ]
  },
  {
   "cell_type": "code",
   "execution_count": 35,
   "id": "3176cb52-e77a-441f-8801-66f3e27637de",
   "metadata": {},
   "outputs": [
    {
     "name": "stdout",
     "output_type": "stream",
     "text": [
      "['Henri', 'Grumpy', 'Lucy']\n"
     ]
    }
   ],
   "source": [
    "print(life['animals']['cats'])"
   ]
  }
 ],
 "metadata": {
  "kernelspec": {
   "display_name": "Python 3 (ipykernel)",
   "language": "python",
   "name": "python3"
  },
  "language_info": {
   "codemirror_mode": {
    "name": "ipython",
    "version": 3
   },
   "file_extension": ".py",
   "mimetype": "text/x-python",
   "name": "python",
   "nbconvert_exporter": "python",
   "pygments_lexer": "ipython3",
   "version": "3.10.6"
  }
 },
 "nbformat": 4,
 "nbformat_minor": 5
}
