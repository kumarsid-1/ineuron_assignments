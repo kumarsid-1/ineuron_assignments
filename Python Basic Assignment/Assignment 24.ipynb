{
 "cells": [
  {
   "cell_type": "code",
   "execution_count": null,
   "id": "209469fb-cb32-4b15-a56d-d12949130980",
   "metadata": {},
   "outputs": [],
   "source": [
    "1. What is the relationship between def statements and lambda expressions ?\n",
    "\n",
    "\n",
    "Answer to question 1:\n",
    "    \n",
    "    \n",
    "def statement is used to create a normal function.\n",
    "And lamba expressions are used to create Anonymous functions which can be assigned to a variable and can be called using the variable later in function."
   ]
  },
  {
   "cell_type": "code",
   "execution_count": null,
   "id": "01c31dde-8d12-4a70-9d7d-29e8aa11e1be",
   "metadata": {},
   "outputs": [],
   "source": [
    "2. What is the benefit of lambda?\n",
    "\n",
    "\n",
    "Answer to question 2:\n",
    "    \n",
    "    \n",
    "a) Moderate to small functions can be created in a single line.\n",
    "b) Can be used to create Nameless/Anonymous functions inside some complex functions if we are planning to use it only once."
   ]
  },
  {
   "cell_type": "code",
   "execution_count": null,
   "id": "fc160804-5f6d-4523-9cf5-12707cd13be3",
   "metadata": {},
   "outputs": [],
   "source": [
    "3. Compare and contrast map, filter, and reduce.\n",
    "\n",
    "\n",
    "Answer to question 3:\n",
    "    \n",
    "    \n",
    "a) map(): This function takes another function as a parameter along with a sequence of iterables and returns an output after applying the function to each iterable present.\n",
    "b) filter(): This function is used to create an output list consisting of values for which the function returns true. \n",
    "c) reduce(): This function applies a given function to the iterables and returns a single value."
   ]
  },
  {
   "cell_type": "code",
   "execution_count": null,
   "id": "20e0c38f-e4d7-4861-bad2-a1430b5e3ac4",
   "metadata": {},
   "outputs": [],
   "source": [
    "4. What are function annotations, and how are they used?\n",
    "\n",
    "\n",
    "Answer to question 4:\n",
    "    \n",
    "    \n",
    "Function annotations provide a way of associating various parts of a function with arbitrary python expressions at compile time.\n",
    "Annotations of simple parameters def func(x: expression, y: expression = 20):"
   ]
  },
  {
   "cell_type": "code",
   "execution_count": null,
   "id": "44ddf8d7-a795-4deb-b9ff-9931e59a2480",
   "metadata": {},
   "outputs": [],
   "source": [
    "5. What are recursive functions, and how are they used?\n",
    "\n",
    "\n",
    "Answer to question 5:\n",
    "    \n",
    "    \n",
    "A recursive function is a function that calls itself during its execution. The process may repeat several times, outputting the result and the end of each iteration."
   ]
  },
  {
   "cell_type": "code",
   "execution_count": null,
   "id": "ff90e22c-fe4c-4d59-8ebe-a899ad35685b",
   "metadata": {},
   "outputs": [],
   "source": [
    "6. What are some general design guidelines for coding functions?\n",
    "\n",
    "\n",
    "Answer to question 6:\n",
    "    \n",
    "    \n",
    "a) Proper Identation to increase the code readability.\n",
    "b) Avoid the use of digits while declaring a variable name.\n",
    "c) Use the name for the function which tells the use of the function.\n",
    "d) Always use a docstring to explain the functionality of the function."
   ]
  },
  {
   "cell_type": "code",
   "execution_count": null,
   "id": "bdccb3d6-4f15-4725-99c5-fb69d8175fed",
   "metadata": {},
   "outputs": [],
   "source": [
    "7. Name three or more ways that functions can communicate results to a caller.\n",
    "\n",
    "\n",
    "Answer to question 7:\n",
    "    \n",
    "    \n",
    "a) print\n",
    "b) return\n",
    "c) yield"
   ]
  }
 ],
 "metadata": {
  "kernelspec": {
   "display_name": "Python 3 (ipykernel)",
   "language": "python",
   "name": "python3"
  },
  "language_info": {
   "codemirror_mode": {
    "name": "ipython",
    "version": 3
   },
   "file_extension": ".py",
   "mimetype": "text/x-python",
   "name": "python",
   "nbconvert_exporter": "python",
   "pygments_lexer": "ipython3",
   "version": "3.10.6"
  }
 },
 "nbformat": 4,
 "nbformat_minor": 5
}
