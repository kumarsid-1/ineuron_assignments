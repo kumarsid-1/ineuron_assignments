{
 "cells": [
  {
   "cell_type": "code",
   "execution_count": null,
   "id": "423a072c-10f2-4031-ae85-d9fdad409dc0",
   "metadata": {},
   "outputs": [],
   "source": [
    "1. Make a class called Thing with no contents and print it. Then, create an object called example from this class and also print it. Are the printed values the same or different?\n",
    "\n",
    "\n",
    "Answer to question 1:"
   ]
  },
  {
   "cell_type": "code",
   "execution_count": 2,
   "id": "ac541d4b-1606-4d11-9d5b-0fca957a3320",
   "metadata": {},
   "outputs": [],
   "source": [
    "class Thing():\n",
    "    pass\n",
    "\n",
    "example=Thing()"
   ]
  },
  {
   "cell_type": "code",
   "execution_count": 3,
   "id": "cdc63f53-d28e-4c99-ab67-028eb40b7360",
   "metadata": {},
   "outputs": [
    {
     "name": "stdout",
     "output_type": "stream",
     "text": [
      "<class '__main__.Thing'>\n",
      "<__main__.Thing object at 0x7f87a83d6c80>\n"
     ]
    }
   ],
   "source": [
    "print(Thing)\n",
    "print(example)"
   ]
  },
  {
   "cell_type": "code",
   "execution_count": null,
   "id": "982bcf6e-5f2f-48fa-8138-edd523759325",
   "metadata": {},
   "outputs": [],
   "source": [
    "2. Create a new class called Thing2 and add the value 'abc' to the letters class attribute. Letters should be printed.\n",
    "\n",
    "\n",
    "Answer to question 2:"
   ]
  },
  {
   "cell_type": "code",
   "execution_count": 4,
   "id": "f1f2454e-88c5-4af8-8b95-ef0f0d89f7b5",
   "metadata": {},
   "outputs": [
    {
     "data": {
      "text/plain": [
       "'abc'"
      ]
     },
     "execution_count": 4,
     "metadata": {},
     "output_type": "execute_result"
    }
   ],
   "source": [
    "class Thing2():\n",
    "    letters = 'abc'\n",
    "    \n",
    "  \n",
    "(Thing2.letters)"
   ]
  },
  {
   "cell_type": "code",
   "execution_count": null,
   "id": "61eaa87c-3d30-4b27-8973-2099d70cb427",
   "metadata": {},
   "outputs": [],
   "source": [
    "3. Make yet another class called, of course, Thing3. This time, assign the value 'xyz' to an instance (object) attribute called letters. Print letters.\n",
    "Do you need to make an object from the class to do this?\n",
    "\n",
    "\n",
    "Answer to question 3:\n",
    "    \n",
    "    \n",
    "We need to make an object."
   ]
  },
  {
   "cell_type": "code",
   "execution_count": 5,
   "id": "40421472-9e19-47aa-98cc-92b02205ca83",
   "metadata": {},
   "outputs": [
    {
     "ename": "NameError",
     "evalue": "name 'letters' is not defined",
     "output_type": "error",
     "traceback": [
      "\u001b[0;31m---------------------------------------------------------------------------\u001b[0m",
      "\u001b[0;31mNameError\u001b[0m                                 Traceback (most recent call last)",
      "Cell \u001b[0;32mIn [5], line 4\u001b[0m\n\u001b[1;32m      1\u001b[0m \u001b[38;5;28;01mclass\u001b[39;00m \u001b[38;5;21;01mThing3\u001b[39;00m():\n\u001b[1;32m      2\u001b[0m     letters \u001b[38;5;241m=\u001b[39m \u001b[38;5;124m'\u001b[39m\u001b[38;5;124mxyz\u001b[39m\u001b[38;5;124m'\u001b[39m\n\u001b[0;32m----> 4\u001b[0m \u001b[38;5;28mprint\u001b[39m(\u001b[43mletters\u001b[49m)\n",
      "\u001b[0;31mNameError\u001b[0m: name 'letters' is not defined"
     ]
    }
   ],
   "source": [
    "class Thing3():\n",
    "    letters = 'xyz'\n",
    "    \n",
    "print(letters)"
   ]
  },
  {
   "cell_type": "code",
   "execution_count": 7,
   "id": "0166c20b-a89a-49ee-8004-56580bc2653e",
   "metadata": {},
   "outputs": [],
   "source": [
    "class Thing3():\n",
    "    letters = 'xyz'\n",
    "    \n",
    "obj = Thing3()"
   ]
  },
  {
   "cell_type": "code",
   "execution_count": 8,
   "id": "6610e77a-356f-4eb4-a7b5-944be641890a",
   "metadata": {},
   "outputs": [
    {
     "data": {
      "text/plain": [
       "'xyz'"
      ]
     },
     "execution_count": 8,
     "metadata": {},
     "output_type": "execute_result"
    }
   ],
   "source": [
    "Thing3.letters"
   ]
  },
  {
   "cell_type": "code",
   "execution_count": null,
   "id": "4274c8de-85a6-40b5-8b4e-bbdf5a689868",
   "metadata": {},
   "outputs": [],
   "source": [
    "4. Create an Element class with the instance attributes name, symbol, and number. Create a class object with the values 'Hydrogen,' 'H,' and 1.\n",
    "\n",
    "\n",
    "Answer to question 4:"
   ]
  },
  {
   "cell_type": "code",
   "execution_count": 9,
   "id": "75301706-558e-4800-ab68-82a4c0816da2",
   "metadata": {},
   "outputs": [],
   "source": [
    "class Element:   \n",
    "    def __init__(self, name, symbol, number):\n",
    "        self.name = name\n",
    "        self.symbol = symbol\n",
    "        self.number = number\n",
    "\n",
    "e = Element('Hydrogen','H',1)"
   ]
  },
  {
   "cell_type": "code",
   "execution_count": null,
   "id": "65652023-4785-4ec2-914a-c04f0082a731",
   "metadata": {},
   "outputs": [],
   "source": [
    "5. Make a dictionary with these keys and values: 'name': 'Hydrogen', 'symbol': 'H', 'number': 1. Then, create an object called hydrogen from class Element using this dictionary.\n",
    "\n",
    "\n",
    "Answer to question 5:"
   ]
  },
  {
   "cell_type": "code",
   "execution_count": 16,
   "id": "ab347686-b8b6-445b-8244-414fe5a2e96c",
   "metadata": {},
   "outputs": [],
   "source": [
    "dle = {'name': 'Hydrogen', 'symbol': 'H', 'number': 1}\n",
    "hydrogen = Element(*dle.values())"
   ]
  },
  {
   "cell_type": "code",
   "execution_count": 19,
   "id": "5c52aaef-4963-4a73-8ca5-5584f2a85785",
   "metadata": {},
   "outputs": [
    {
     "name": "stdout",
     "output_type": "stream",
     "text": [
      "Hydrogen\tH\t1\n"
     ]
    }
   ],
   "source": [
    "print(hydrogen.name,hydrogen.symbol,hydrogen.number, sep='\\t')"
   ]
  },
  {
   "cell_type": "code",
   "execution_count": null,
   "id": "40130f90-63b2-4922-9b3f-c431432c6779",
   "metadata": {},
   "outputs": [],
   "source": [
    "6. For the Element class, define a method called dump() that prints the values of the object’s attributes (name, symbol, and number). \n",
    "Create the hydrogen object from this new definition and use dump() to print its attributes.\n",
    "\n",
    "\n",
    "Answer to question 6:"
   ]
  },
  {
   "cell_type": "code",
   "execution_count": 20,
   "id": "570f6f78-70eb-4497-99c6-43227686f296",
   "metadata": {},
   "outputs": [],
   "source": [
    "class Element:\n",
    "    def __init__(self, name, symbol, number):\n",
    "        self.name = name\n",
    "        self.symbol = symbol\n",
    "        self.number = number\n",
    "        \n",
    "        \n",
    "    def dump(self):\n",
    "            print(self.name, self.symbol, self.number, sep='\\t')"
   ]
  },
  {
   "cell_type": "code",
   "execution_count": 21,
   "id": "a96dd57b-d5c8-4351-a213-fbdfedb9743f",
   "metadata": {},
   "outputs": [],
   "source": [
    "hydrogen = Element('Hydrogen','H',1)"
   ]
  },
  {
   "cell_type": "code",
   "execution_count": 22,
   "id": "339ee52b-dd1b-4064-95bf-8b28b4730485",
   "metadata": {},
   "outputs": [
    {
     "name": "stdout",
     "output_type": "stream",
     "text": [
      "Hydrogen\tH\t1\n"
     ]
    }
   ],
   "source": [
    "hydrogen.dump()"
   ]
  },
  {
   "cell_type": "code",
   "execution_count": null,
   "id": "35b2b57c-0108-446a-a879-3f1394021008",
   "metadata": {},
   "outputs": [],
   "source": [
    "7. Call print(hydrogen). In the definition of Element, change the name of method dump to __str__, create a new hydrogen object, and call print(hydrogen) again.\n",
    "\n",
    "\n",
    "Answer to question 7:"
   ]
  },
  {
   "cell_type": "code",
   "execution_count": 24,
   "id": "93cb303c-5f1b-4be0-8365-968c535178fd",
   "metadata": {},
   "outputs": [
    {
     "name": "stdout",
     "output_type": "stream",
     "text": [
      "<__main__.Element object at 0x7f87a864c970>\n",
      "Hydrogen H 1\n"
     ]
    }
   ],
   "source": [
    "print(hydrogen)\n",
    "\n",
    "class Element:\n",
    "    def __init__(self, name, symbol, number):\n",
    "        self.name = name\n",
    "        self.symbol = symbol\n",
    "        self.number = number      \n",
    "    def __str__(self):\n",
    "        return f'{self.name} {self.symbol} {self.number}'\n",
    "        \n",
    "Hydrogen = Element('Hydrogen','H',1)\n",
    "print(Hydrogen)"
   ]
  },
  {
   "cell_type": "code",
   "execution_count": null,
   "id": "3d8031c7-c3c6-44d5-9887-b0b69f167e02",
   "metadata": {},
   "outputs": [],
   "source": [
    "8. Modify Element to make the attributes name, symbol, and number private. Define a getter property for each to return its value.\n",
    "\n",
    "\n",
    "Answer to question 8:"
   ]
  },
  {
   "cell_type": "code",
   "execution_count": 1,
   "id": "05164d6c-11da-4028-bbed-585bd31cb852",
   "metadata": {},
   "outputs": [
    {
     "name": "stdout",
     "output_type": "stream",
     "text": [
      "Hydrogen H 1\n"
     ]
    }
   ],
   "source": [
    "class Element:\n",
    "    def __init__(self,name,symbol,number):\n",
    "        self.__name = name\n",
    "        self.__symbol = symbol\n",
    "        self.__number = number\n",
    "    \n",
    "    @property\n",
    "    def get(self):\n",
    "        return f\"{self.__name} {self.__symbol} {self.__number}\"\n",
    "    \n",
    "\n",
    "    \n",
    "hydrogen = Element('Hydrogen','H',1)\n",
    "print(hydrogen.get)"
   ]
  },
  {
   "cell_type": "code",
   "execution_count": null,
   "id": "e032a130-bc88-4aaa-9e0a-5fd1d415191c",
   "metadata": {},
   "outputs": [],
   "source": [
    "9. Define three classes: Bear, Rabbit, and Octothorpe. For each, define only one method: eats(). \n",
    "This should return 'berries' (Bear), 'clover' (Rabbit), or 'campers' (Octothorpe). Create one object from each and print what it eats.\n",
    "\n",
    "\n",
    "Answer to question 9:"
   ]
  },
  {
   "cell_type": "code",
   "execution_count": 3,
   "id": "c85156dc-150a-46a5-9bed-c125ff5c8b37",
   "metadata": {},
   "outputs": [],
   "source": [
    "class Bear:\n",
    "    def eats(self):\n",
    "        print('berries')\n",
    "class Rabbit:\n",
    "    def eats(self):\n",
    "        print('clover')\n",
    "class Octothorpe:\n",
    "    def eats(self):\n",
    "        print('campers')\n",
    "        \n",
    "b = Bear()\n",
    "r = Rabbit()\n",
    "o = Octothorpe()"
   ]
  },
  {
   "cell_type": "code",
   "execution_count": 6,
   "id": "f035bdb6-90ec-421d-828c-c4c4c942757e",
   "metadata": {},
   "outputs": [
    {
     "name": "stdout",
     "output_type": "stream",
     "text": [
      "berries\n",
      "clover\n",
      "campers\n"
     ]
    }
   ],
   "source": [
    "b.eats()\n",
    "r.eats()\n",
    "o.eats()"
   ]
  },
  {
   "cell_type": "code",
   "execution_count": null,
   "id": "c0f51501-5031-4ba3-a14b-891a721d37b7",
   "metadata": {},
   "outputs": [],
   "source": [
    "10. Define these classes: Laser, Claw, and SmartPhone. Each has only one method: does(). This returns 'disintegrate' (Laser), 'crush' (Claw), or 'ring' (SmartPhone). \n",
    "Then, define the class Robot that has one instance (object) of each of these. Define a does() method for the Robot that prints what its component objects do.\n",
    "\n",
    "\n",
    "Answer to question 10:"
   ]
  },
  {
   "cell_type": "code",
   "execution_count": 3,
   "id": "a393cbc2-b60a-412b-ac07-e017401f8e67",
   "metadata": {},
   "outputs": [],
   "source": [
    "class Laser:\n",
    "    def does(self):\n",
    "        return 'disintegrate'\n",
    "    \n",
    "class Claw:\n",
    "    def does(self):\n",
    "        return 'crush'\n",
    "    \n",
    "    \n",
    "class SmartPhone:\n",
    "    def does(self):\n",
    "        return 'ring'\n",
    "    \n",
    "    \n",
    "class Robot:\n",
    "    def __init__(self):\n",
    "        self.laser = Laser()\n",
    "        self.claw = Claw()\n",
    "        self.smartPhone = SmartPhone()\n",
    "    def does(self):\n",
    "        print(self.laser.does(),self.claw.does(),self.smartPhone.does(), sep='\\t')"
   ]
  },
  {
   "cell_type": "code",
   "execution_count": 4,
   "id": "63364fdd-ad54-40fb-ac46-c654518d86ea",
   "metadata": {},
   "outputs": [],
   "source": [
    "r=Robot()"
   ]
  },
  {
   "cell_type": "code",
   "execution_count": 5,
   "id": "9818a989-56e4-4922-b598-f999ab0890b3",
   "metadata": {},
   "outputs": [
    {
     "name": "stdout",
     "output_type": "stream",
     "text": [
      "disintegrate\tcrush\tring\n"
     ]
    }
   ],
   "source": [
    "r.does()"
   ]
  },
  {
   "cell_type": "code",
   "execution_count": null,
   "id": "73a81335-678a-44a5-ba6c-9f27a00c8662",
   "metadata": {},
   "outputs": [],
   "source": []
  }
 ],
 "metadata": {
  "kernelspec": {
   "display_name": "Python 3 (ipykernel)",
   "language": "python",
   "name": "python3"
  },
  "language_info": {
   "codemirror_mode": {
    "name": "ipython",
    "version": 3
   },
   "file_extension": ".py",
   "mimetype": "text/x-python",
   "name": "python",
   "nbconvert_exporter": "python",
   "pygments_lexer": "ipython3",
   "version": "3.10.6"
  }
 },
 "nbformat": 4,
 "nbformat_minor": 5
}
