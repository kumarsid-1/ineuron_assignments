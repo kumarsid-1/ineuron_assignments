{
 "cells": [
  {
   "cell_type": "code",
   "execution_count": null,
   "id": "dce0547a-695e-45ea-9bff-f26475df02fb",
   "metadata": {},
   "outputs": [],
   "source": [
    "1. How do you distinguish between shutil.copy() and shutil.copytree()?\n",
    "\n",
    "\n",
    "Answer to question 1:\n",
    "    \n",
    "    \n",
    "shutil.copy() method is used to copy the contents of a file from one file to another file/folder, \n",
    "it primary takes two arguments src,dest, src represents the file to be copied where as destination refers to the file/folder to where the src data should be copied, \n",
    "if dest is a folder name the src with exact name will be copied to the dest folder, if its a file then the contents of src will be copied to dest where dest retains it name.\n",
    "\n",
    "shutil.copytree() function is used to copy the entire contents of a folder to other folder. \n",
    "it also takes two arguments src & dest, it copies all the content recursively and stores it in dest. \n",
    "the important catch here is dest must not exist prior to this and it will be created during the copy operation. \n",
    "Permissions and times of directories are copied with shutil.copystat() and individual files are copied using shutil.copy2() by default which can be modified using copy_function attribute."
   ]
  },
  {
   "cell_type": "code",
   "execution_count": null,
   "id": "f8422eca-86be-47f7-8311-81b7508cb1c3",
   "metadata": {},
   "outputs": [],
   "source": [
    "2. What function is used to rename files??\n",
    "\n",
    "\n",
    "Answer to question 2:\n",
    "    \n",
    "    \n",
    "os.rename() function is used to rename files or directories using a python program.\n",
    "This function takes two arguments src and dest, src represents the name file/directory which we want to rename, \n",
    "Whereas dest represents the new name of the file/directory."
   ]
  },
  {
   "cell_type": "code",
   "execution_count": null,
   "id": "081f8098-706e-4f73-ac3a-39278afb8d3e",
   "metadata": {},
   "outputs": [],
   "source": [
    "3. What is the difference between the delete functions in the send2trash and shutil modules?\n",
    "\n",
    "\n",
    "Answer to question 3:\n",
    "    \n",
    "    \n",
    "Shutil module provides a funciton called as shutil.rmtree() which deletes a directory and all its contents. \n",
    "The other functions with similar functionality are os.remove() -> removes a file, os.rmdir() removes a empty directory. \n",
    "The problem with these functions is once a file is deleted. it will be lost permanently, \n",
    "if a file is deleted accidentally using these methods there is no way we can recover the deleted file.\n",
    "\n",
    "Where as send2trash module provides a function called send2trash.send2trash() to delete a file/directory. \n",
    "These methods moves the files/directories to trash folder instead of permanently deleting them. \n",
    "Hence if a file/folder is deleted accidentally it can be still recovered from trash folder, if is deleted using the send2trash.send2trash() function. \n",
    "send2trash is not included with python standard libary like os & shutil modules. it needs to be installed explicitly using the command !pip install send2trash."
   ]
  },
  {
   "cell_type": "code",
   "execution_count": null,
   "id": "b3ef57a2-f358-4f17-b1fb-ce9d5fb4f297",
   "metadata": {},
   "outputs": [],
   "source": [
    "4.ZipFile objects have a close() method just like File objects’ close() method. What ZipFile method is equivalent to File objects’ open() method?\n",
    "\n",
    "\n",
    "Answer to question 4:\n",
    "    \n",
    "    \n",
    "ZipFile Module provides a method called as zipfile.ZipFile() to read and write to zipFiles. it takes arugments lile filename and mode etc zipfile.ZipFile('filename', mode = 'r')."
   ]
  },
  {
   "cell_type": "code",
   "execution_count": null,
   "id": "f8445eb3-a916-4949-afdf-3d23f3f9bc15",
   "metadata": {},
   "outputs": [],
   "source": [
    "5. Create a programme that searches a folder tree for files with a certain file extension (such as .pdf or .jpg). Copy these files from whatever location they are in to a new folder\n",
    "\n",
    "\n",
    "Answer to question 5:"
   ]
  },
  {
   "cell_type": "code",
   "execution_count": null,
   "id": "bccefb66-04d8-4fca-a18d-e6a4256e6c63",
   "metadata": {},
   "outputs": [],
   "source": []
  }
 ],
 "metadata": {
  "kernelspec": {
   "display_name": "Python 3 (ipykernel)",
   "language": "python",
   "name": "python3"
  },
  "language_info": {
   "codemirror_mode": {
    "name": "ipython",
    "version": 3
   },
   "file_extension": ".py",
   "mimetype": "text/x-python",
   "name": "python",
   "nbconvert_exporter": "python",
   "pygments_lexer": "ipython3",
   "version": "3.10.6"
  }
 },
 "nbformat": 4,
 "nbformat_minor": 5
}
