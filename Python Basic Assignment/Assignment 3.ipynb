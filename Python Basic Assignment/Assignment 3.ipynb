{
 "cells": [
  {
   "cell_type": "code",
   "execution_count": null,
   "id": "f6bb0bf1-d297-4539-a651-ed705e2ebc87",
   "metadata": {},
   "outputs": [],
   "source": [
    "1. Why are functions advantageous to have in your programs?\n",
    "\n",
    "\n",
    "Answer to question 1:\n",
    "    \n",
    "    \n",
    "Functions make programs shorter, easier to read and easier to update.\n",
    "It also helps in not writing a certain code many times in a program Hence making it more efficient while updating or reading. "
   ]
  },
  {
   "cell_type": "code",
   "execution_count": null,
   "id": "84fcde46-d6f3-4027-8a64-87a7d92006d6",
   "metadata": {},
   "outputs": [],
   "source": [
    "2. When does the code in a function run: when it's specified or when it's called?\n",
    "\n",
    "\n",
    "Answer to question 2:\n",
    "    \n",
    "    \n",
    "    \n",
    "The code in a function executes when the function is called, not when the function is specified."
   ]
  },
  {
   "cell_type": "code",
   "execution_count": null,
   "id": "ef47df33-e303-4d63-9b43-e79e63669fdb",
   "metadata": {},
   "outputs": [],
   "source": [
    "3. What statement creates a function?\n",
    "\n",
    "\n",
    "Answer to question 3:\n",
    "    \n",
    "    \n",
    "The def statement creates a function."
   ]
  },
  {
   "cell_type": "code",
   "execution_count": null,
   "id": "2248278e-ecf2-4a2c-b668-60efea13b986",
   "metadata": {},
   "outputs": [],
   "source": [
    "4. What is the difference between a function and a function call?\n",
    "\n",
    "\n",
    "Answer to question 4:\n",
    "    \n",
    "    \n",
    "A function is a certain set of code defined to do a certain execution.\n",
    "A function call is the part of the code where we use the codes in the def clause for execution and the function calls evaluates to the return value of the function."
   ]
  },
  {
   "cell_type": "code",
   "execution_count": null,
   "id": "3531ad54-515c-4291-9cfb-25e639e9688b",
   "metadata": {},
   "outputs": [],
   "source": [
    "5. How many global scopes are there in a Python program? How many local scopes?\n",
    "\n",
    "\n",
    "Answer to question 5:\n",
    "    \n",
    "    \n",
    "There is one global scope, and a local scope is created whenever a function is called."
   ]
  },
  {
   "cell_type": "code",
   "execution_count": null,
   "id": "6698dff6-caed-493a-a4ee-765df95e7458",
   "metadata": {},
   "outputs": [],
   "source": [
    "6. What happens to variables in a local scope when the function call returns?\n",
    "\n",
    "\n",
    "Answer to question 6:\n",
    "    \n",
    "    \n",
    "When a function call returns, the local scope is erased and the variables are also destroyed."
   ]
  },
  {
   "cell_type": "code",
   "execution_count": null,
   "id": "56eb2b68-2ca9-47c6-9f06-18bde7ad77a8",
   "metadata": {},
   "outputs": [],
   "source": [
    "7. What is the concept of a return value? Is it possible to have a return value in an expression?\n",
    "\n",
    "\n",
    "\n",
    "Answer to question 7:\n",
    "\n",
    "\n",
    "A return value is the value that a function call gives after execution of the function. \n",
    "Like any value, a return value can be used as part of an expression."
   ]
  },
  {
   "cell_type": "code",
   "execution_count": null,
   "id": "885fd034-d309-4e0f-a435-d9ecda55ef7d",
   "metadata": {},
   "outputs": [],
   "source": [
    "8. If a function does not have a return statement, what is the return value of a call to that function?\n",
    "\n",
    "\n",
    "Answer to question 8:\n",
    "\n",
    "\n",
    "If there is no return statement for a function then its return value is None."
   ]
  },
  {
   "cell_type": "code",
   "execution_count": null,
   "id": "1666b8d1-bdce-497f-a385-3dde089112ec",
   "metadata": {},
   "outputs": [],
   "source": [
    "9. How do you make a function variable refer to the global variable?\n",
    "\n",
    "\n",
    "\n",
    "Answer to question 9:\n",
    "    \n",
    "    \n",
    "A global statement is used in a function to refer to the global variable."
   ]
  },
  {
   "cell_type": "code",
   "execution_count": null,
   "id": "7b314b49-4a60-43d4-9e51-e5e20602923e",
   "metadata": {},
   "outputs": [],
   "source": [
    "10. What is the data type of None?\n",
    "\n",
    "\n",
    "Answer to question 10:\n",
    "    \n",
    "    \n",
    "    \n",
    "The data type of None is NoneType."
   ]
  },
  {
   "cell_type": "code",
   "execution_count": null,
   "id": "6c0544d8-5fb7-4590-8794-4b6479df98a9",
   "metadata": {},
   "outputs": [],
   "source": [
    "11. What does the sentence import areallyourpetsnamederic do?\n",
    "\n",
    "\n",
    "\n",
    "Answer to question 11:\n",
    "    \n",
    "    \n",
    "    \n",
    "The import statement imports a module named areallyourpetsnamederic."
   ]
  },
  {
   "cell_type": "code",
   "execution_count": null,
   "id": "24466f83-2b35-40f0-b667-1ba0f6abb9c4",
   "metadata": {},
   "outputs": [],
   "source": [
    "12. If you had a bacon() feature in a spam module, what would you call it after importing spam?\n",
    "\n",
    "\n",
    "\n",
    "Answer to question 12:\n",
    "    \n",
    "    \n",
    "    \n",
    "This function can be called with spam.bacon()."
   ]
  },
  {
   "cell_type": "code",
   "execution_count": null,
   "id": "2424618e-3b77-4feb-9ba8-71eb5f638edb",
   "metadata": {},
   "outputs": [],
   "source": [
    "13. What can you do to save a programme from crashing if it encounters an error?\n",
    "\n",
    "\n",
    "Answer to question 13:\n",
    "    \n",
    "    \n",
    "We can use error or exception handling."
   ]
  }
 ],
 "metadata": {
  "kernelspec": {
   "display_name": "Python 3 (ipykernel)",
   "language": "python",
   "name": "python3"
  },
  "language_info": {
   "codemirror_mode": {
    "name": "ipython",
    "version": 3
   },
   "file_extension": ".py",
   "mimetype": "text/x-python",
   "name": "python",
   "nbconvert_exporter": "python",
   "pygments_lexer": "ipython3",
   "version": "3.10.6"
  }
 },
 "nbformat": 4,
 "nbformat_minor": 5
}
