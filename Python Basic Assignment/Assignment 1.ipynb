{
 "cells": [
  {
   "cell_type": "code",
   "execution_count": null,
   "id": "5d596db4-1094-4160-86f1-c3469f352fd2",
   "metadata": {},
   "outputs": [],
   "source": [
    "1. In the below elements which of them are values or an expression? eg:- values can be\n",
    "integer or string and expressions will be mathematical operators.\n",
    "*\n",
    "'hello'\n",
    "-87.8\n",
    "-\n",
    "/\n",
    "+\n",
    "6\n",
    "\n",
    "\n",
    "\n",
    "Answer to question 1:\n",
    "    \n",
    "* -> Multiplication Operator \n",
    "'hello' -> String\n",
    "-87.8 -> Integer\n",
    "- -> Subtraction Operator\n",
    "/ -> Division Operator\n",
    "+ -> Addition Operator\n",
    "6 -> Integer"
   ]
  },
  {
   "cell_type": "code",
   "execution_count": null,
   "id": "5a99fd30-536b-42f7-91f7-c16cc75f5076",
   "metadata": {},
   "outputs": [],
   "source": [
    "2. What is the difference between string and variable?\n",
    "\n",
    "\n",
    "Answer to question 2:\n",
    "\n",
    "\n",
    "A string is a sequence of characters.\n",
    "It is an immutable data type which means that once you have created a string, it cannot be changed.\n",
    "\n",
    "Variables are symbols that you can use to store data.\n",
    "We can assume it as a type of empty box and we can put any data in it. "
   ]
  },
  {
   "cell_type": "code",
   "execution_count": null,
   "id": "ddd4e2fe-8678-492b-a7b1-8219a9118663",
   "metadata": {},
   "outputs": [],
   "source": [
    "3. Describe three different data types.\n",
    "\n",
    "\n",
    "Answer to question 3:\n",
    "    \n",
    "    \n",
    "a) Boolean (bool): True or False values.\n",
    "b) Integer (int): Numeric data type for numbers without fractions.\n",
    "c) Floating Point (float): Numeric data type for numbers with fractions."
   ]
  },
  {
   "cell_type": "code",
   "execution_count": null,
   "id": "1c16021e-e00b-4100-a8bd-dab364bcc6b5",
   "metadata": {},
   "outputs": [],
   "source": [
    "4. What is an expression made up of? What do all expressions do?\n",
    "\n",
    "\n",
    "Answer to question 4:\n",
    "    \n",
    "    \n",
    "An expression in Python is a combination of operators and operands.\n",
    "It is a combination of values, variables, operators and calls to functions.\n",
    "The expression in Python produces some value or result after being interpreted by the Python interpreter."
   ]
  },
  {
   "cell_type": "code",
   "execution_count": null,
   "id": "df5f6d12-8681-4b3d-862b-095ae76535d9",
   "metadata": {},
   "outputs": [],
   "source": [
    "5. This assignment statements, like spam = 10. What is the difference between an expression and a statement?\n",
    "\n",
    "\n",
    "Answer to question 5:\n",
    "    \n",
    "    \n",
    "Expressions can be evaluated to get some certain result or value of the expression.\n",
    "Expressions can not change the state of a variable.\n",
    "\n",
    "A statement in Python is not evaluated for any results.\n",
    "It can change the state of the variable."
   ]
  },
  {
   "cell_type": "code",
   "execution_count": null,
   "id": "18113acb-f422-40eb-8312-b8b84622da41",
   "metadata": {},
   "outputs": [],
   "source": [
    "6. After running the following code, what does the variable bacon contain?\n",
    "bacon = 22\n",
    "bacon + 1\n",
    "\n",
    "\n",
    "Answer to question 6:\n",
    "    \n",
    "\n",
    "The variable bacon will still contain 22 as its value."
   ]
  },
  {
   "cell_type": "code",
   "execution_count": 4,
   "id": "85ae1b9a-5f7f-4320-8c0f-3b95a5eec070",
   "metadata": {},
   "outputs": [
    {
     "name": "stdout",
     "output_type": "stream",
     "text": [
      "22\n"
     ]
    }
   ],
   "source": [
    "bacon = 22\n",
    "bacon + 1\n",
    "print(bacon)"
   ]
  },
  {
   "cell_type": "code",
   "execution_count": null,
   "id": "e5223679-5a5d-4a48-a8e1-858d006f6a1c",
   "metadata": {},
   "outputs": [],
   "source": [
    "7. What should the values of the following two terms be?\n",
    "'spam' + 'spamspam'\n",
    "'spam' * 3\n",
    "\n",
    "\n",
    "Answer to question 7:\n",
    "\n",
    "'spam' + 'spamspam' = 'spamspamspam'\n",
    "'spam' * 3 = 'spamspamspam'"
   ]
  },
  {
   "cell_type": "code",
   "execution_count": null,
   "id": "6f2dbccf-03be-4f16-8a6b-0b9c1fba099a",
   "metadata": {},
   "outputs": [],
   "source": [
    "8. Why is eggs a valid variable name while 100 is invalid?\n",
    "\n",
    "\n",
    "\n",
    "Answer to question 8:\n",
    "    \n",
    "\n",
    "A variable name can only contain alpha-numeric characters and underscores (A-z, 0-9, and _ ).\n",
    "A variable name cannot start with a number.\n",
    "are the reasons why eggs is a valid variable name and 100 is an invalid one."
   ]
  },
  {
   "cell_type": "code",
   "execution_count": null,
   "id": "ff198729-3696-4e9a-8dc0-e47b0ed1619d",
   "metadata": {},
   "outputs": [],
   "source": [
    "9. What three functions can be used to get the integer, floating-point number, or string version of a value?\n",
    "\n",
    "\n",
    "\n",
    "Answer to question 9:\n",
    "    \n",
    "    \n",
    "    \n",
    "The int() , float() , and str( ) functions will give the integer, floating-point number, and string versions of the value passed to them."
   ]
  },
  {
   "cell_type": "code",
   "execution_count": null,
   "id": "8be9e245-1146-4dce-bd84-02256c8d3897",
   "metadata": {},
   "outputs": [],
   "source": [
    "10. Why does this expression cause an error? How can you fix it?\n",
    "'I have eaten' + 99 + 'burritos.'\n",
    "\n",
    "\n",
    "Answer to question 10:\n",
    "    \n",
    "    \n",
    "    \n",
    "It will cause an error because we cannot concatenate string with integer.\n",
    "It"
   ]
  },
  {
   "cell_type": "code",
   "execution_count": null,
   "id": "8a078068-8ae7-49f0-8e7c-84d503a97764",
   "metadata": {},
   "outputs": [],
   "source": []
  }
 ],
 "metadata": {
  "kernelspec": {
   "display_name": "Python 3 (ipykernel)",
   "language": "python",
   "name": "python3"
  },
  "language_info": {
   "codemirror_mode": {
    "name": "ipython",
    "version": 3
   },
   "file_extension": ".py",
   "mimetype": "text/x-python",
   "name": "python",
   "nbconvert_exporter": "python",
   "pygments_lexer": "ipython3",
   "version": "3.10.6"
  }
 },
 "nbformat": 4,
 "nbformat_minor": 5
}
