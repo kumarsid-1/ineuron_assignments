{
 "cells": [
  {
   "cell_type": "code",
   "execution_count": null,
   "id": "524bbaf7-8220-4e55-b873-8d00dec674c2",
   "metadata": {},
   "outputs": [],
   "source": [
    "1.How many seconds are in an hour? Use the interactive interpreter as a calculator and multiply the number of seconds in a minute (60) by the number of minutes in an hour (also 60).\n",
    "\n",
    "\n",
    "Answer to question 1:"
   ]
  },
  {
   "cell_type": "code",
   "execution_count": 1,
   "id": "4124fb93-8a6c-44a7-a7a5-a977cb7e5789",
   "metadata": {},
   "outputs": [
    {
     "name": "stdout",
     "output_type": "stream",
     "text": [
      "3600\n"
     ]
    }
   ],
   "source": [
    "print(60*60)"
   ]
  },
  {
   "cell_type": "code",
   "execution_count": null,
   "id": "3291ca27-e97a-4001-b6aa-0b2b5ff05e98",
   "metadata": {},
   "outputs": [],
   "source": [
    "2. Assign the result from the previous task (seconds in an hour) to a variable called seconds_per_hour.\n",
    "\n",
    "\n",
    "Answer to question 2:"
   ]
  },
  {
   "cell_type": "code",
   "execution_count": 2,
   "id": "b8c2dd83-07af-4f5d-baa7-8e2bb7b0c6ba",
   "metadata": {},
   "outputs": [
    {
     "name": "stdout",
     "output_type": "stream",
     "text": [
      "3600\n"
     ]
    }
   ],
   "source": [
    "seconds_per_hour = 60*60\n",
    "print(seconds_per_hour)"
   ]
  },
  {
   "cell_type": "code",
   "execution_count": null,
   "id": "594f767d-29fa-4a16-a045-85cd5801efa5",
   "metadata": {},
   "outputs": [],
   "source": [
    "3. How many seconds do you think there are in a day? Make use of the variables seconds per hour and minutes per hour?\n",
    "\n",
    "\n",
    "Answer to question 3:"
   ]
  },
  {
   "cell_type": "code",
   "execution_count": 3,
   "id": "ff23edff-3915-4f2f-93bc-957d50aa8a50",
   "metadata": {},
   "outputs": [
    {
     "name": "stdout",
     "output_type": "stream",
     "text": [
      "86400\n"
     ]
    }
   ],
   "source": [
    "minutes_per_hour = 60\n",
    "print(seconds_per_hour*24)"
   ]
  },
  {
   "cell_type": "code",
   "execution_count": null,
   "id": "f96835f2-3075-4a12-a75e-d060d921ebfa",
   "metadata": {},
   "outputs": [],
   "source": [
    "4. Calculate seconds per day again, but this time save the result in a variable called seconds_per_day.\n",
    "\n",
    "\n",
    "Answer to question 4:"
   ]
  },
  {
   "cell_type": "code",
   "execution_count": 4,
   "id": "56d7de09-fab5-4bdd-97bb-36b9150537bd",
   "metadata": {},
   "outputs": [
    {
     "name": "stdout",
     "output_type": "stream",
     "text": [
      "86400\n"
     ]
    }
   ],
   "source": [
    "seconds_per_day = 24*60*60\n",
    "print(seconds_per_day)"
   ]
  },
  {
   "cell_type": "code",
   "execution_count": null,
   "id": "a8288ba0-939d-40b1-a135-2fea3588f7a8",
   "metadata": {},
   "outputs": [],
   "source": [
    "5. Divide seconds_per_day by seconds_per_hour. Use floating-point (/) division.\n",
    "\n",
    "\n",
    "Answer to question 5:"
   ]
  },
  {
   "cell_type": "code",
   "execution_count": 5,
   "id": "41d9b6ed-4f0d-4a94-8cdb-75d8ab5256fb",
   "metadata": {},
   "outputs": [
    {
     "name": "stdout",
     "output_type": "stream",
     "text": [
      "24.0\n"
     ]
    }
   ],
   "source": [
    "print(seconds_per_day/seconds_per_hour)"
   ]
  },
  {
   "cell_type": "code",
   "execution_count": null,
   "id": "dc38aad6-5d15-4c56-9811-eced9328ceea",
   "metadata": {},
   "outputs": [],
   "source": [
    "6. Divide seconds_per_day by seconds_per_hour, using integer (//) division. \n",
    "Did this number agree with the floating-point value from the previous question, aside from the final .0?\n",
    "\n",
    "\n",
    "Answer to question 6:\n",
    "    \n",
    "    \n",
    "Yes it agreed with the floating-point value from the previous question."
   ]
  },
  {
   "cell_type": "code",
   "execution_count": 7,
   "id": "17987da6-3e14-4ba8-9d0c-187d625378ae",
   "metadata": {},
   "outputs": [
    {
     "name": "stdout",
     "output_type": "stream",
     "text": [
      "24\n"
     ]
    }
   ],
   "source": [
    "print(seconds_per_day//seconds_per_hour)"
   ]
  },
  {
   "cell_type": "code",
   "execution_count": null,
   "id": "ab4ace68-4f7f-4efd-9602-f364deb1b103",
   "metadata": {},
   "outputs": [],
   "source": [
    "7. Write a generator, genPrimes, that returns the sequence of prime numbers on successive calls to its next() method: 2, 3, 5, 7, 11, ...\n",
    "\n",
    "\n",
    "Answer to question 7:"
   ]
  },
  {
   "cell_type": "code",
   "execution_count": 12,
   "id": "fb69dde1-8341-49f1-95f6-ae5804365702",
   "metadata": {},
   "outputs": [],
   "source": [
    "from math import sqrt\n",
    "\n",
    "def is_prime(n):\n",
    "    if (n <= 1):\n",
    "        return False\n",
    "    if (n == 2):\n",
    "        return True\n",
    "    if (n % 2 == 0):\n",
    "        return False\n",
    "\n",
    "    i = 3\n",
    "    while i <= sqrt(n):\n",
    "        if n % i == 0:\n",
    "            return False\n",
    "        i = i + 2\n",
    "\n",
    "    return True"
   ]
  },
  {
   "cell_type": "code",
   "execution_count": 13,
   "id": "261258f8-7735-4b2a-8025-e7c6f6ceeb08",
   "metadata": {},
   "outputs": [],
   "source": [
    "def prime_generator():\n",
    "    n = 1\n",
    "    while True:\n",
    "        n += 1\n",
    "        if is_prime(n):\n",
    "            yield n"
   ]
  },
  {
   "cell_type": "code",
   "execution_count": 14,
   "id": "e3084f57-b69a-4361-8ffa-020db735c89b",
   "metadata": {},
   "outputs": [
    {
     "name": "stdout",
     "output_type": "stream",
     "text": [
      "2\n",
      "3\n",
      "5\n",
      "7\n",
      "11\n",
      "13\n",
      "17\n",
      "19\n",
      "23\n",
      "29\n"
     ]
    }
   ],
   "source": [
    "generator = prime_generator()\n",
    "\n",
    "for i in range(10):\n",
    "    print(next(generator))"
   ]
  }
 ],
 "metadata": {
  "kernelspec": {
   "display_name": "Python 3 (ipykernel)",
   "language": "python",
   "name": "python3"
  },
  "language_info": {
   "codemirror_mode": {
    "name": "ipython",
    "version": 3
   },
   "file_extension": ".py",
   "mimetype": "text/x-python",
   "name": "python",
   "nbconvert_exporter": "python",
   "pygments_lexer": "ipython3",
   "version": "3.10.6"
  }
 },
 "nbformat": 4,
 "nbformat_minor": 5
}
