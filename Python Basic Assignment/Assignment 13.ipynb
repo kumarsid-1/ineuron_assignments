{
 "cells": [
  {
   "cell_type": "code",
   "execution_count": null,
   "id": "ebf29126-e5a0-4fdc-a40c-2132546d0eaa",
   "metadata": {},
   "outputs": [],
   "source": [
    "1. What advantages do Excel spreadsheets have over CSV spreadsheets?\n",
    "\n",
    "\n",
    "Answer to question 1:\n",
    "    \n",
    "    \n",
    "The advantages of Excel apreadsheets over CSV are:\n",
    "a) Excel (XLS and XLSX) file formats are better for storing and analysing complex data.\n",
    "b) An Excel not only stores data but can also do operations on the data using macros, formulas etc.\n",
    "c) CSV files are plain-text files, Does not contain formatting, formulas, macros, etc. It is also known as flat files."
   ]
  },
  {
   "cell_type": "code",
   "execution_count": null,
   "id": "fe5cea79-30b9-4ba8-aafb-087e638431f6",
   "metadata": {},
   "outputs": [],
   "source": [
    "2.What do you pass to csv.reader() and csv.writer() to create reader and writer objects?\n",
    "\n",
    "\n",
    "Answer to question 2:\n",
    "    \n",
    "    \n"
   ]
  },
  {
   "cell_type": "code",
   "execution_count": null,
   "id": "cbae3dee-0661-4a4f-ab3f-db9551850b20",
   "metadata": {},
   "outputs": [],
   "source": [
    "import csv\n",
    "with open('text.csv','r') as f:\n",
    "    csv_file = csv.reader(f,delimiter=',')\n",
    "    for element in csv_file:\n",
    "        print(element)"
   ]
  },
  {
   "cell_type": "code",
   "execution_count": null,
   "id": "b55b0bc8-ae06-41ae-bf84-125bb81035e4",
   "metadata": {},
   "outputs": [],
   "source": [
    "3. What modes do File objects for reader and writer objects need to be opened in?\n",
    "\n",
    "\n",
    "Answer to question 3:\n",
    "    \n",
    "    \n",
    "For csv.reader(iterable_file_object), the file objects needed to be opened in read mode mode='r'.\n",
    "For csv.writer(iterable_file_object) the file objects needed to be opened in write mode mode='w'."
   ]
  },
  {
   "cell_type": "code",
   "execution_count": null,
   "id": "1ca9a9e7-43b5-45f0-8e4a-aa400eb92ac2",
   "metadata": {},
   "outputs": [],
   "source": [
    "4. What method takes a list argument and writes it to a CSV file?\n",
    "\n",
    "\n",
    "Answer to question 4:\n",
    "    \n",
    "    \n",
    "writerow() and writerows() methods take list as an arguement and writes it toa CSV file.\n",
    "writerow() method writes a single row at a time.\n",
    "writerows() method writes multiple rows at a time."
   ]
  },
  {
   "cell_type": "code",
   "execution_count": null,
   "id": "dd0ba577-0b28-4368-8c3c-9108d8813783",
   "metadata": {},
   "outputs": [],
   "source": [
    "5. What do the keyword arguments delimiter and line terminator do?\n",
    "\n",
    "\n",
    "Answer to question 5:\n",
    "    \n",
    "    \n",
    "Characters which separate text strings are called delimiter.\n",
    "Line Terminator comes at end of line by default it is newline and can be changed accourding to Requirement."
   ]
  },
  {
   "cell_type": "code",
   "execution_count": null,
   "id": "4fe24b8e-8106-4101-af95-bba29245daf0",
   "metadata": {},
   "outputs": [],
   "source": [
    "6. What function takes a string of JSON data and returns a Python data structure?\n",
    "\n",
    "\n",
    "Answer to question 6:\n",
    "    \n",
    "    \n",
    "loads() method takes a string of JSON data and returns a Python data structure."
   ]
  },
  {
   "cell_type": "code",
   "execution_count": null,
   "id": "f0154351-3ce5-4165-8b5d-4a8e429555bd",
   "metadata": {},
   "outputs": [],
   "source": [
    "7. What function takes a Python data structure and returns a string of JSON data?\n",
    "\n",
    "\n",
    "Answer to question 7:\n",
    "    \n",
    "    \n",
    "dumps() method takes a python data structure and returns a string of JSON data."
   ]
  }
 ],
 "metadata": {
  "kernelspec": {
   "display_name": "Python 3 (ipykernel)",
   "language": "python",
   "name": "python3"
  },
  "language_info": {
   "codemirror_mode": {
    "name": "ipython",
    "version": 3
   },
   "file_extension": ".py",
   "mimetype": "text/x-python",
   "name": "python",
   "nbconvert_exporter": "python",
   "pygments_lexer": "ipython3",
   "version": "3.10.6"
  }
 },
 "nbformat": 4,
 "nbformat_minor": 5
}
