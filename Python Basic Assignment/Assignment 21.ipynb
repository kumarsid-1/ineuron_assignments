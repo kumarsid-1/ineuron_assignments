{
 "cells": [
  {
   "cell_type": "code",
   "execution_count": null,
   "id": "7b3c7743-ccae-47ba-835e-e46ea372b944",
   "metadata": {},
   "outputs": [],
   "source": [
    "1. Add the current date to the text file today.txt as a string.\n",
    "\n",
    "\n",
    "Answer to question 1:"
   ]
  },
  {
   "cell_type": "code",
   "execution_count": 2,
   "id": "fb817b27-17ec-47fa-8286-82e15cbb756d",
   "metadata": {},
   "outputs": [],
   "source": [
    "from datetime import date\n",
    "t = date.today()\n",
    "with open('today.txt', 'w') as f:\n",
    "    f.write(t.strftime(\"%d-%m-%Y\"))"
   ]
  },
  {
   "cell_type": "code",
   "execution_count": null,
   "id": "93fe958a-1512-4f6c-94e7-b7b219ca87b9",
   "metadata": {},
   "outputs": [],
   "source": [
    "2. Read the text file today.txt into the string today_string.\n",
    "\n",
    "\n",
    "Answer to question 2:"
   ]
  },
  {
   "cell_type": "code",
   "execution_count": 7,
   "id": "b9ac8867-0024-4b07-961c-171618456b33",
   "metadata": {},
   "outputs": [
    {
     "name": "stdout",
     "output_type": "stream",
     "text": [
      "15-03-2023\n"
     ]
    }
   ],
   "source": [
    "file = open('today.txt','r')\n",
    "today_string = file.read()\n",
    "print(today_string)"
   ]
  },
  {
   "cell_type": "code",
   "execution_count": null,
   "id": "0b1ef20f-a9f1-4454-b43f-cea23014715c",
   "metadata": {},
   "outputs": [],
   "source": [
    "3. Parse the date from today_string.\n",
    "\n",
    "\n",
    "Answer to question 3:"
   ]
  },
  {
   "cell_type": "code",
   "execution_count": 8,
   "id": "ab34b473-7f0b-4e35-9d18-a85c9e997c0b",
   "metadata": {},
   "outputs": [
    {
     "name": "stdout",
     "output_type": "stream",
     "text": [
      "2023-03-15 00:00:00\n"
     ]
    }
   ],
   "source": [
    "from datetime import datetime\n",
    "parsed_data = datetime.strptime(today_string, '%d-%m-%Y')\n",
    "print(parsed_data)"
   ]
  },
  {
   "cell_type": "code",
   "execution_count": null,
   "id": "a32c6ff3-ea43-4705-b6d6-382a70f3efb7",
   "metadata": {},
   "outputs": [],
   "source": [
    "4. List the files in your current directory.\n",
    "\n",
    "\n",
    "Answer to question 4:"
   ]
  },
  {
   "cell_type": "code",
   "execution_count": 5,
   "id": "f26822f9-a2a3-437e-ac04-7eb4fe680dd1",
   "metadata": {},
   "outputs": [],
   "source": [
    "import os\n",
    "path = os.getcwd()"
   ]
  },
  {
   "cell_type": "code",
   "execution_count": 6,
   "id": "90118ad3-9534-4da6-99a9-f3b97b9223b4",
   "metadata": {},
   "outputs": [
    {
     "data": {
      "text/plain": [
       "<generator object _walk at 0x7f7a8c6329d0>"
      ]
     },
     "execution_count": 6,
     "metadata": {},
     "output_type": "execute_result"
    }
   ],
   "source": [
    "os.walk(os.getcwd())"
   ]
  },
  {
   "cell_type": "code",
   "execution_count": 7,
   "id": "c29ae2ff-0ba2-4dae-a9c3-3f37f7fc268b",
   "metadata": {},
   "outputs": [
    {
     "name": "stdout",
     "output_type": "stream",
     "text": [
      "README.md\n",
      "sample-code.ipynb\n",
      "Untitled.ipynb\n",
      "today.txt\n",
      "packed-refs\n",
      "HEAD\n",
      "index\n",
      "config\n",
      "description\n",
      "HEAD\n",
      "main\n",
      "HEAD\n",
      "exclude\n",
      "pack-290036e657c294196be1b61a981e44da145e2135.pack\n",
      "pack-290036e657c294196be1b61a981e44da145e2135.idx\n",
      "pre-push.sample\n",
      "prepare-commit-msg.sample\n",
      "applypatch-msg.sample\n",
      "pre-applypatch.sample\n",
      "commit-msg.sample\n",
      "pre-rebase.sample\n",
      "pre-receive.sample\n",
      "update.sample\n",
      "fsmonitor-watchman.sample\n",
      "pre-merge-commit.sample\n",
      "pre-commit.sample\n",
      "push-to-checkout.sample\n",
      "post-update.sample\n",
      "main\n",
      "HEAD\n",
      "today-checkpoint.txt\n",
      "Untitled-checkpoint.ipynb\n"
     ]
    }
   ],
   "source": [
    "for (root, dirs, file) in os.walk(path):\n",
    "    for f in file:\n",
    "        print(f)"
   ]
  },
  {
   "cell_type": "code",
   "execution_count": null,
   "id": "3b37fc30-bf4d-453b-ac35-59a1547162e0",
   "metadata": {},
   "outputs": [],
   "source": [
    "5. Create a list of all of the files in your parent directory (minimum five files should be available).\n",
    "\n",
    "\n",
    "Answer to question 5:"
   ]
  },
  {
   "cell_type": "code",
   "execution_count": 8,
   "id": "8172ed5f-c86d-4dd8-885f-a51789c8471c",
   "metadata": {},
   "outputs": [
    {
     "data": {
      "text/plain": [
       "['README.md',\n",
       " 'sample-code.ipynb',\n",
       " '.git',\n",
       " 'Untitled.ipynb',\n",
       " '.ipynb_checkpoints',\n",
       " 'today.txt']"
      ]
     },
     "execution_count": 8,
     "metadata": {},
     "output_type": "execute_result"
    }
   ],
   "source": [
    "import os \n",
    "os.listdir()"
   ]
  },
  {
   "cell_type": "code",
   "execution_count": null,
   "id": "02d7d3aa-338d-4f74-92c9-a805cdccb20e",
   "metadata": {},
   "outputs": [],
   "source": [
    "6. Use multiprocessing to create three separate processes. Make each one wait a random number of seconds between one and five, print the current time, and then exit.\n",
    "\n",
    "\n",
    "Answer to question 6:"
   ]
  },
  {
   "cell_type": "code",
   "execution_count": null,
   "id": "2804dc45-d1ef-4db9-9829-8e8eb9413d21",
   "metadata": {},
   "outputs": [],
   "source": [
    "7. Create a date object of your day of birth.\n",
    "\n",
    "\n",
    "Answer to question 7:"
   ]
  },
  {
   "cell_type": "code",
   "execution_count": 10,
   "id": "a4cb0431-b0d9-45f5-921a-7a593ccf2adc",
   "metadata": {},
   "outputs": [
    {
     "name": "stdout",
     "output_type": "stream",
     "text": [
      "1999-05-17 00:00:00\n",
      "<class 'datetime.datetime'>\n"
     ]
    }
   ],
   "source": [
    "import datetime\n",
    "\n",
    "x = datetime.datetime(1999, 5, 17)\n",
    "\n",
    "print(x)\n",
    "print(type(x))"
   ]
  },
  {
   "cell_type": "code",
   "execution_count": null,
   "id": "aec8da89-6c20-4adf-bdf0-504b173aa9ee",
   "metadata": {},
   "outputs": [],
   "source": [
    "8. What day of the week was your day of birth?\n",
    "\n",
    "\n",
    "Answer to question 8:"
   ]
  },
  {
   "cell_type": "code",
   "execution_count": 2,
   "id": "e548d5a2-0b4c-42a1-ad8a-22ab92736ab9",
   "metadata": {},
   "outputs": [
    {
     "data": {
      "text/plain": [
       "'Monday'"
      ]
     },
     "execution_count": 2,
     "metadata": {},
     "output_type": "execute_result"
    }
   ],
   "source": [
    "from datetime import datetime\n",
    "dob = datetime(1999,5,17)\n",
    "dob.strftime(\"%A\")"
   ]
  },
  {
   "cell_type": "code",
   "execution_count": 3,
   "id": "ec820240-36f4-4f91-b4bd-42bc654339a7",
   "metadata": {},
   "outputs": [
    {
     "data": {
      "text/plain": [
       "datetime.datetime(1999, 5, 17, 0, 0)"
      ]
     },
     "execution_count": 3,
     "metadata": {},
     "output_type": "execute_result"
    }
   ],
   "source": [
    "dob\n"
   ]
  },
  {
   "cell_type": "code",
   "execution_count": null,
   "id": "917b2262-def7-488d-b032-64c54d92a5a5",
   "metadata": {},
   "outputs": [],
   "source": [
    "9. When will you be (or when were you) 10,000 days old?\n",
    "\n",
    "\n",
    "Answer to question 9:"
   ]
  },
  {
   "cell_type": "code",
   "execution_count": 5,
   "id": "98cc92a9-e5dc-4f0a-9d02-6d1ebde66c0e",
   "metadata": {},
   "outputs": [
    {
     "data": {
      "text/plain": [
       "datetime.datetime(1971, 12, 30, 0, 0)"
      ]
     },
     "execution_count": 5,
     "metadata": {},
     "output_type": "execute_result"
    }
   ],
   "source": [
    "from datetime import datetime, timedelta\n",
    "dob = datetime.strptime(\"17/05/1999\",'%d/%m/%Y')\n",
    "f = dob-timedelta(10000)\n",
    "f"
   ]
  },
  {
   "cell_type": "code",
   "execution_count": null,
   "id": "edce87cc-758b-4634-b36b-96228e606aeb",
   "metadata": {},
   "outputs": [],
   "source": []
  }
 ],
 "metadata": {
  "kernelspec": {
   "display_name": "Python 3 (ipykernel)",
   "language": "python",
   "name": "python3"
  },
  "language_info": {
   "codemirror_mode": {
    "name": "ipython",
    "version": 3
   },
   "file_extension": ".py",
   "mimetype": "text/x-python",
   "name": "python",
   "nbconvert_exporter": "python",
   "pygments_lexer": "ipython3",
   "version": "3.10.6"
  }
 },
 "nbformat": 4,
 "nbformat_minor": 5
}
