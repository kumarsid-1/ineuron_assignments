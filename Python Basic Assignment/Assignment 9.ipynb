{
 "cells": [
  {
   "cell_type": "code",
   "execution_count": null,
   "id": "36505bdc-91a9-4cf0-9bfa-5d1987175d11",
   "metadata": {},
   "outputs": [],
   "source": [
    "1.To what does a relative path refer ?\n",
    "\n",
    "\n",
    "Answer to question 1:\n",
    "    \n",
    "    \n",
    "The relative path is the path to some file with respect to our present working directory (PWD).\n",
    "PWD + relative path = absolute path."
   ]
  },
  {
   "cell_type": "code",
   "execution_count": null,
   "id": "3e19385d-ad86-40d2-a010-4450de0243e3",
   "metadata": {},
   "outputs": [],
   "source": [
    "2.Where does an absolute path start with your Operating System ?\n",
    "\n",
    "\n",
    "Answer to question 2:\n",
    "    \n",
    "    \n",
    "In Windows based systems absolute path starts with C:"
   ]
  },
  {
   "cell_type": "code",
   "execution_count": null,
   "id": "c69077ce-ed4e-4a09-b53a-379a62b82bcd",
   "metadata": {},
   "outputs": [],
   "source": [
    "3.What does the functions os.getcwd() and os.chdir() do ?\n",
    "\n",
    "\n",
    "Answer to question 3:\n",
    "    \n",
    "    \n",
    "\n",
    "os.getcwd() method tells us the location of current working directory (CWD). \n",
    "os.chdir() method in Python used to change the current working directory to specified path. These functions are similar to linux commands pwd and cd."
   ]
  },
  {
   "cell_type": "code",
   "execution_count": null,
   "id": "bf9c31b1-44b0-40c9-884b-d643c38bdace",
   "metadata": {},
   "outputs": [],
   "source": [
    "4.What are . and .. folders ?\n",
    "\n",
    "\n",
    "Answer to question 4:\n",
    "    \n",
    "    \n",
    ".  represents the Current Directory on the other hand .. Represents the Parent Directory of the Current Directory."
   ]
  },
  {
   "cell_type": "code",
   "execution_count": null,
   "id": "7a45e2f6-a4d7-4cee-a3c8-e704f39a694a",
   "metadata": {},
   "outputs": [],
   "source": [
    "5. In C:\\bacon\\eggs\\spam.txt which part is the dir name and which part is the base name ?\n",
    "\n",
    "\n",
    "Answer to question 5:\n",
    "    \n",
    "    \n",
    "The dir name is C:\\bacon\\eggs and \n",
    "The Base name is spam.txt."
   ]
  },
  {
   "cell_type": "code",
   "execution_count": 1,
   "id": "0e1b0adb-d6a7-4265-8551-e41745e27d4d",
   "metadata": {},
   "outputs": [
    {
     "name": "stdout",
     "output_type": "stream",
     "text": [
      "\n",
      "C:\\bacon\\eggs\\spam.txt\n"
     ]
    }
   ],
   "source": [
    "import os\n",
    "path = r'C:\\bacon\\eggs\\spam.txt'\n",
    "print(os.path.dirname(path))\n",
    "print(os.path.basename(path))"
   ]
  },
  {
   "cell_type": "code",
   "execution_count": null,
   "id": "7b984391-828c-4712-8b66-3615918dfd2d",
   "metadata": {},
   "outputs": [],
   "source": [
    "6.What are the three mode arguments that can be passed to the open() function ?\n",
    "\n",
    "\n",
    "Answer to question 6:\n",
    "    \n",
    "    \n",
    "The three mode arguments are\n",
    "a) ‘r+’ – Read/Write Mode: Use this mode if you need to simultaneously read and write to a file.\n",
    "b) ‘a+’ – Append and Read Mode: In this mode you can read and append the data without overwriting the original file.\n",
    "c) ‘r’ – Read Mode: This is the default mode for open(). The file is opened and a pointer is positioned at the beginning of the file’s content."
   ]
  },
  {
   "cell_type": "code",
   "execution_count": null,
   "id": "6b9d1264-5511-4067-8afd-7bed433455e7",
   "metadata": {},
   "outputs": [],
   "source": [
    "7.What happens if an existing file is opened in write mode ?\n",
    "\n",
    "\n",
    "Answer to question 7:\n",
    "    \n",
    "    \n",
    "This mode will overwrite any already existing content in a file. \n",
    "If the given file does not exist then a new one will be created."
   ]
  },
  {
   "cell_type": "code",
   "execution_count": null,
   "id": "7834cd86-3e09-415f-aed5-f2d2f1c3de49",
   "metadata": {},
   "outputs": [],
   "source": [
    "8.How do you tell the difference between read() and readlines() ?\n",
    "\n",
    "\n",
    "Answer to question 8:\n",
    "    \n",
    "    \n",
    "The read() will read the whole file at once and then print out the first characters that take up as many bytes as you specify in the parenthesis and \n",
    "The readline() that will read and print out only the first characters that take up as many bytes as you specify in the parenthesis. "
   ]
  },
  {
   "cell_type": "code",
   "execution_count": null,
   "id": "86e6cda2-95ed-4b58-aa80-3ca2743ce321",
   "metadata": {},
   "outputs": [],
   "source": [
    "9.What data structure does a shelf value resemble ?\n",
    "\n",
    "\n",
    "Answer to question 9:\n",
    "    \n",
    "    \n",
    "It contains key and values it represents dictionary."
   ]
  }
 ],
 "metadata": {
  "kernelspec": {
   "display_name": "Python 3 (ipykernel)",
   "language": "python",
   "name": "python3"
  },
  "language_info": {
   "codemirror_mode": {
    "name": "ipython",
    "version": 3
   },
   "file_extension": ".py",
   "mimetype": "text/x-python",
   "name": "python",
   "nbconvert_exporter": "python",
   "pygments_lexer": "ipython3",
   "version": "3.10.6"
  }
 },
 "nbformat": 4,
 "nbformat_minor": 5
}
