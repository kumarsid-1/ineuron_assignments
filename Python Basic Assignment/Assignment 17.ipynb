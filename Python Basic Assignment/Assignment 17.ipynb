{
 "cells": [
  {
   "cell_type": "code",
   "execution_count": null,
   "id": "187aabad-3e36-46cb-baef-cf9114587d34",
   "metadata": {},
   "outputs": [],
   "source": [
    "1. Assign the value 7 to the variable guess_me. \n",
    "Then, write the conditional tests (if, else, and elif) to print the string 'too low' if guess_me is less than 7, 'too high' if greater than 7, and 'just right' if equal to 7.\n",
    "\n",
    "\n",
    "Answer to question 1:\n",
    "    "
   ]
  },
  {
   "cell_type": "code",
   "execution_count": 1,
   "id": "f53c6358-5e7c-41cb-ba60-8a7d3b8e087e",
   "metadata": {},
   "outputs": [],
   "source": [
    "def condi(guess_me):\n",
    "    if guess_me<7:\n",
    "        print('too low')\n",
    "        \n",
    "    elif guess_me>7:\n",
    "        print('too high')\n",
    "        \n",
    "    else:\n",
    "        print('just right')"
   ]
  },
  {
   "cell_type": "code",
   "execution_count": 4,
   "id": "a444dfcc-397b-4746-aa10-8ad3bf2dddf4",
   "metadata": {},
   "outputs": [
    {
     "name": "stdout",
     "output_type": "stream",
     "text": [
      "too low\n"
     ]
    }
   ],
   "source": [
    "condi(2)"
   ]
  },
  {
   "cell_type": "code",
   "execution_count": null,
   "id": "3a29776a-b8c5-41c6-a2a2-dc8c12a4ab72",
   "metadata": {},
   "outputs": [],
   "source": [
    "2. Assign the value 7 to the variable guess_me and the value 1 to the variable start. Write a while loop that compares start with guess_me. Print too low if start is less than guess me. \n",
    "If start equals guess_me, print 'found it!' and exit the loop. \n",
    "If start is greater than guess_me, print 'oops' and exit the loop. Increment start at the end of the loop.\n",
    "\n",
    "\n",
    "Answer to question 2:"
   ]
  },
  {
   "cell_type": "code",
   "execution_count": 5,
   "id": "97aa519f-3995-45fb-be22-fc77092ed23e",
   "metadata": {},
   "outputs": [
    {
     "name": "stdout",
     "output_type": "stream",
     "text": [
      "too low\n",
      "too low\n",
      "too low\n",
      "too low\n",
      "too low\n",
      "too low\n",
      "found it\n"
     ]
    }
   ],
   "source": [
    "guess_me = 7\n",
    "start = 1\n",
    "\n",
    "while True:\n",
    "    if start == guess_me:\n",
    "        print('found it')\n",
    "        break\n",
    "        \n",
    "    elif start<guess_me:\n",
    "        print('too low')\n",
    "        \n",
    "    else:\n",
    "        print('oops')\n",
    "        break\n",
    "        \n",
    "    start += 1"
   ]
  },
  {
   "cell_type": "code",
   "execution_count": null,
   "id": "f92d3123-3bb5-44aa-b4be-f696abd775af",
   "metadata": {},
   "outputs": [],
   "source": [
    "3. Print the following values of the list [3, 2, 1, 0] using a for loop.\n",
    "\n",
    "\n",
    "Answer to question 3:\n",
    "    "
   ]
  },
  {
   "cell_type": "code",
   "execution_count": 6,
   "id": "8407b2fc-4c9a-4648-a8fc-0c9491b789c2",
   "metadata": {},
   "outputs": [
    {
     "name": "stdout",
     "output_type": "stream",
     "text": [
      "3\n",
      "2\n",
      "1\n",
      "0\n"
     ]
    }
   ],
   "source": [
    "l=[3,2,1,0]\n",
    "for i in l:\n",
    "    print(i)"
   ]
  },
  {
   "cell_type": "code",
   "execution_count": null,
   "id": "46447c08-7521-4490-8f0f-a7db65bf1fdb",
   "metadata": {},
   "outputs": [],
   "source": [
    "4. Use a list comprehension to make a list of the even numbers in range(10)\n",
    "\n",
    "\n",
    "Answer to question 4:"
   ]
  },
  {
   "cell_type": "code",
   "execution_count": 7,
   "id": "26ebc452-8f9d-4107-b348-e1143c21ba01",
   "metadata": {},
   "outputs": [
    {
     "data": {
      "text/plain": [
       "[0, 2, 4, 6, 8, 10]"
      ]
     },
     "execution_count": 7,
     "metadata": {},
     "output_type": "execute_result"
    }
   ],
   "source": [
    "[x for x in range(10+1) if x%2==0 ]"
   ]
  },
  {
   "cell_type": "code",
   "execution_count": null,
   "id": "a6b4b025-277e-46a7-ac7e-843fb0eee86a",
   "metadata": {},
   "outputs": [],
   "source": [
    "5. Use a dictionary comprehension to create the dictionary squares. Use range(10) to return the keys, and use the square of each key as its value.\n",
    "\n",
    "\n",
    "Answer to question 5:"
   ]
  },
  {
   "cell_type": "code",
   "execution_count": 9,
   "id": "6259f101-95a7-42d8-9ea8-8886ae1deba9",
   "metadata": {},
   "outputs": [
    {
     "data": {
      "text/plain": [
       "{0: 0, 1: 1, 2: 4, 3: 9, 4: 16, 5: 25, 6: 36, 7: 49, 8: 64, 9: 81}"
      ]
     },
     "execution_count": 9,
     "metadata": {},
     "output_type": "execute_result"
    }
   ],
   "source": [
    "{x:x**2 for x in range(10)}"
   ]
  },
  {
   "cell_type": "code",
   "execution_count": null,
   "id": "869a91ac-c3a6-458d-acee-c670b05a96ae",
   "metadata": {},
   "outputs": [],
   "source": [
    "6. Construct the set odd from the odd numbers in the range using a set comprehension (10).\n",
    "\n",
    "Answer to question 6:"
   ]
  },
  {
   "cell_type": "code",
   "execution_count": 10,
   "id": "f475b0c6-fb02-4eb7-8983-d99cb5a5ad6c",
   "metadata": {},
   "outputs": [
    {
     "data": {
      "text/plain": [
       "{1, 3, 5, 7, 9}"
      ]
     },
     "execution_count": 10,
     "metadata": {},
     "output_type": "execute_result"
    }
   ],
   "source": [
    "{x for x in range(10) if x%2!=0}"
   ]
  },
  {
   "cell_type": "code",
   "execution_count": null,
   "id": "2d3ddba7-6a58-4f2d-a7de-6fde9b1c1999",
   "metadata": {},
   "outputs": [],
   "source": [
    "7. Use a generator comprehension to return the string 'Got ' and a number for the numbers in range(10). Iterate through this by using a for loop\n",
    "\n",
    "\n",
    "Answer to question 7:"
   ]
  },
  {
   "cell_type": "code",
   "execution_count": 14,
   "id": "7711aba8-84be-4430-b2f3-db2e4df95b4c",
   "metadata": {},
   "outputs": [
    {
     "name": "stdout",
     "output_type": "stream",
     "text": [
      "Got_0\n",
      "Got_1\n",
      "Got_2\n",
      "Got_3\n",
      "Got_4\n",
      "Got_5\n",
      "Got_6\n",
      "Got_7\n",
      "Got_8\n",
      "Got_9\n"
     ]
    }
   ],
   "source": [
    "gg = ('Got_'+ str(x) for x in range(10))\n",
    "for i in gg:\n",
    "    print(i)"
   ]
  },
  {
   "cell_type": "code",
   "execution_count": null,
   "id": "66934fd7-294b-485b-8902-49ffad8340eb",
   "metadata": {},
   "outputs": [],
   "source": [
    "8. Define a function called good that returns the list ['Harry', 'Ron', 'Hermione'].\n",
    "\n",
    "\n",
    "Answer to question 8"
   ]
  },
  {
   "cell_type": "code",
   "execution_count": 15,
   "id": "4a5a4812-4962-4b1b-8f66-125f043fb6b0",
   "metadata": {},
   "outputs": [
    {
     "data": {
      "text/plain": [
       "['Harry', 'Ron', 'Hermione']"
      ]
     },
     "execution_count": 15,
     "metadata": {},
     "output_type": "execute_result"
    }
   ],
   "source": [
    "def good():\n",
    "    x =  ['Harry', 'Ron', 'Hermione']\n",
    "    return x\n",
    "good()"
   ]
  },
  {
   "cell_type": "code",
   "execution_count": null,
   "id": "776b7281-2e66-4faf-a0b5-86172bb91330",
   "metadata": {},
   "outputs": [],
   "source": [
    "9. Define a generator function called get_odds that returns the odd numbers from range(10). Use a for loop to find and print the third value returned.\n",
    "\n",
    "\n",
    "Answer to question 9:"
   ]
  },
  {
   "cell_type": "code",
   "execution_count": 7,
   "id": "4eef896e-c7b9-4349-99ff-af0e6f745741",
   "metadata": {},
   "outputs": [
    {
     "data": {
      "text/plain": [
       "5"
      ]
     },
     "execution_count": 7,
     "metadata": {},
     "output_type": "execute_result"
    }
   ],
   "source": [
    "def get_odds():\n",
    "    l = []\n",
    "    for i in range(10):\n",
    "        if i%2 != 0:\n",
    "            l.append(i)\n",
    "    yield l\n",
    "\n",
    "next(get_odds())[2]"
   ]
  },
  {
   "cell_type": "code",
   "execution_count": null,
   "id": "7f837a86-8314-44a4-933f-0230b51e0b89",
   "metadata": {},
   "outputs": [],
   "source": [
    "10. Define an exception called OopsException. Raise this exception to see what happens. Then write the code to catch this exception and print 'Caught an oops'.\n",
    "\n",
    "\n",
    "Answer to question 10:"
   ]
  },
  {
   "cell_type": "code",
   "execution_count": 3,
   "id": "3ed758f4-45a3-4297-9784-676fd3a94585",
   "metadata": {},
   "outputs": [
    {
     "name": "stdout",
     "output_type": "stream",
     "text": [
      "Caught in Oops '<' not supported between instances of 'method' and 'int'\n"
     ]
    }
   ],
   "source": [
    "class OopsException():\n",
    "    pass \n",
    "\n",
    "def check(inp):\n",
    "    if input <0:\n",
    "        raise OopsException(ee)\n",
    "        \n",
    "        \n",
    "try:\n",
    "    check(-1)\n",
    "except Exception as e:\n",
    "    print('Caught in Oops',e)"
   ]
  },
  {
   "cell_type": "code",
   "execution_count": null,
   "id": "cae1a146-1b53-4599-bdd4-474dfa358e50",
   "metadata": {},
   "outputs": [],
   "source": [
    "11. Use zip() to make a dictionary called \n",
    "movies that pairs these lists: titles = ['Creature of Habit', 'Crewel Fate'] and plots = ['A nun turns into a monster', 'A haunted yarn shop'].\n",
    "\n",
    "\n",
    "Answer to question 11:"
   ]
  },
  {
   "cell_type": "code",
   "execution_count": 4,
   "id": "5474e025-adfb-41db-8023-6b624ee849f4",
   "metadata": {},
   "outputs": [],
   "source": [
    "titles = ['Creature of Habit', 'Crewel Fate']\n",
    "plots = ['A nun turns into a monster', 'A haunted yarn shop']\n",
    "final = dict(zip(titles,plots))"
   ]
  },
  {
   "cell_type": "code",
   "execution_count": 5,
   "id": "22adae7a-6f3b-44d6-86d7-effabbd89fb4",
   "metadata": {},
   "outputs": [
    {
     "data": {
      "text/plain": [
       "{'Creature of Habit': 'A nun turns into a monster',\n",
       " 'Crewel Fate': 'A haunted yarn shop'}"
      ]
     },
     "execution_count": 5,
     "metadata": {},
     "output_type": "execute_result"
    }
   ],
   "source": [
    "final"
   ]
  },
  {
   "cell_type": "code",
   "execution_count": null,
   "id": "d1cb170d-e1b0-4e11-99f2-ea615c0bc259",
   "metadata": {},
   "outputs": [],
   "source": []
  }
 ],
 "metadata": {
  "kernelspec": {
   "display_name": "Python 3 (ipykernel)",
   "language": "python",
   "name": "python3"
  },
  "language_info": {
   "codemirror_mode": {
    "name": "ipython",
    "version": 3
   },
   "file_extension": ".py",
   "mimetype": "text/x-python",
   "name": "python",
   "nbconvert_exporter": "python",
   "pygments_lexer": "ipython3",
   "version": "3.10.6"
  }
 },
 "nbformat": 4,
 "nbformat_minor": 5
}
