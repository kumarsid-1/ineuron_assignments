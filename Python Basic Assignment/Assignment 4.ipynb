{
 "cells": [
  {
   "cell_type": "code",
   "execution_count": null,
   "id": "66130956-78b8-414c-96ab-aa066eb50903",
   "metadata": {},
   "outputs": [],
   "source": [
    "1. What exactly is []?\n",
    "\n",
    "\n",
    "Answer to question 1:\n",
    "    \n",
    "    \n",
    "[] is an empty list."
   ]
  },
  {
   "cell_type": "code",
   "execution_count": null,
   "id": "663e9086-3376-49c4-b3aa-f280a4006431",
   "metadata": {},
   "outputs": [],
   "source": [
    "2. In a list of values stored in a variable called spam, how would you assign the value 'hello' as the third value? (Assume [2, 4, 6, 8, 10] are in spam.)\n",
    "\n",
    "\n",
    "Answer to question 2:\n",
    "    \n",
    "    \n",
    "spam=[2,3,6,8,10]\n",
    "spam[2]='hello'\n",
    "spam"
   ]
  },
  {
   "cell_type": "code",
   "execution_count": 1,
   "id": "9c3b4311-0168-4361-acd6-07e5e8b6fccf",
   "metadata": {},
   "outputs": [
    {
     "data": {
      "text/plain": [
       "[2, 3, 'hello', 8, 10]"
      ]
     },
     "execution_count": 1,
     "metadata": {},
     "output_type": "execute_result"
    }
   ],
   "source": [
    "spam=[2,3,6,8,10]\n",
    "spam[2]='hello'\n",
    "spam"
   ]
  },
  {
   "cell_type": "code",
   "execution_count": null,
   "id": "17578b0a-28e7-4803-8411-55a6ea84fa24",
   "metadata": {},
   "outputs": [],
   "source": [
    "spam = ['a', 'b', 'c', 'd'] for the next 3 questions."
   ]
  },
  {
   "cell_type": "code",
   "execution_count": null,
   "id": "ad2b8689-3b76-461b-987b-c6355cd79a21",
   "metadata": {},
   "outputs": [],
   "source": [
    "3. What is the value of spam[int(int('3' * 2) / 11)]?\n",
    "\n",
    "\n",
    "Answer to question 3:\n",
    "    \n",
    "    \n",
    "spam[int(int('3' * 2) / 11)] == spam[3]\n",
    "spam[3]= 'd'"
   ]
  },
  {
   "cell_type": "code",
   "execution_count": null,
   "id": "d12f7a25-c567-4fa1-8054-27713404f70b",
   "metadata": {},
   "outputs": [],
   "source": [
    "4. What is the value of spam[-1]?\n",
    "\n",
    "\n",
    "Answer to question 4:\n",
    "    \n",
    "    \n",
    "spam[-1] = 'd'"
   ]
  },
  {
   "cell_type": "code",
   "execution_count": null,
   "id": "1c8cdef8-8689-4097-b4c4-943e01ba3cc6",
   "metadata": {},
   "outputs": [],
   "source": [
    "5. What is the value of spam[:2]?\n",
    "\n",
    "\n",
    "Answer to question 5:\n",
    "    \n",
    "    \n",
    "\n",
    "spam[:2] = ['a', 'b']"
   ]
  },
  {
   "cell_type": "code",
   "execution_count": 2,
   "id": "4a46148d-b962-4bbb-98ab-bbe7a14bf3c1",
   "metadata": {},
   "outputs": [],
   "source": [
    "spam= ['a', 'b', 'c', 'd']"
   ]
  },
  {
   "cell_type": "code",
   "execution_count": 5,
   "id": "cbac84b9-890f-4e21-9216-dfac22353b1a",
   "metadata": {},
   "outputs": [
    {
     "data": {
      "text/plain": [
       "['a', 'b']"
      ]
     },
     "execution_count": 5,
     "metadata": {},
     "output_type": "execute_result"
    }
   ],
   "source": [
    "spam[:2]"
   ]
  },
  {
   "cell_type": "code",
   "execution_count": null,
   "id": "0ec07b23-f2e2-48c7-a55e-84e20df91a1c",
   "metadata": {},
   "outputs": [],
   "source": [
    "bacon = [3.14, 'cat' 11, 'cat' True] for the next 3 questions."
   ]
  },
  {
   "cell_type": "code",
   "execution_count": null,
   "id": "c67b1267-e9be-4f19-8558-a423a4fe1e11",
   "metadata": {},
   "outputs": [],
   "source": [
    "6. What is the value of bacon.index('cat')?\n",
    "\n",
    "\n",
    "Answer to question 6:\n",
    "    \n",
    "    \n",
    "1, because it will give the index of first occurance."
   ]
  },
  {
   "cell_type": "code",
   "execution_count": null,
   "id": "203b72a9-e0a6-439c-993d-e5ece820ead1",
   "metadata": {},
   "outputs": [],
   "source": [
    "7. How does bacon.append(99) change the look of the list value in bacon?\n",
    "\n",
    "\n",
    "Answer to question 7:\n",
    "    \n",
    "    \n",
    "bacon.append(99) = [3.14, 'cat', 11, 'cat', True, 99]"
   ]
  },
  {
   "cell_type": "code",
   "execution_count": 6,
   "id": "633e4da3-f3a4-4cb4-9d85-aa57c929da77",
   "metadata": {},
   "outputs": [
    {
     "data": {
      "text/plain": [
       "[3.14, 'cat', 11, 'cat', True, 99]"
      ]
     },
     "execution_count": 6,
     "metadata": {},
     "output_type": "execute_result"
    }
   ],
   "source": [
    "\n",
    "bacon = [3.14, 'cat', 11, 'cat', True]\n",
    "bacon.append(99) # append adds the item at the end of the list\n",
    "bacon"
   ]
  },
  {
   "cell_type": "code",
   "execution_count": null,
   "id": "60700d98-57cd-43cd-bc14-860d81c79f0d",
   "metadata": {},
   "outputs": [],
   "source": [
    "8. How does bacon.remove('cat') change the look of the list in bacon?\n",
    "\n",
    "\n",
    "Answer to question 8:\n",
    "    \n",
    "    \n",
    "bacon.remove('cat') = [3.14, 11, 'cat', True]"
   ]
  },
  {
   "cell_type": "code",
   "execution_count": 8,
   "id": "4a4e17b0-01ed-4e21-b4e9-be6d3c424a21",
   "metadata": {},
   "outputs": [
    {
     "data": {
      "text/plain": [
       "[3.14, 11, 'cat', True]"
      ]
     },
     "execution_count": 8,
     "metadata": {},
     "output_type": "execute_result"
    }
   ],
   "source": [
    "bacon = [3.14, 'cat', 11, 'cat', True]\n",
    "bacon.remove('cat') # remove first occurrence of item\n",
    "bacon"
   ]
  },
  {
   "cell_type": "code",
   "execution_count": null,
   "id": "40510784-7756-4885-bd43-9bcc1ca63a0a",
   "metadata": {},
   "outputs": [],
   "source": [
    "9. What are the list concatenation and list replication operators?\n",
    "\n",
    "\n",
    "Answer to question 9:\n",
    "    \n",
    "    \n",
    "( + ) is list concatenation operator ( * ) is list replication operator."
   ]
  },
  {
   "cell_type": "code",
   "execution_count": null,
   "id": "1e6d4b78-3e55-4a75-ac8a-f4868cb909a4",
   "metadata": {},
   "outputs": [],
   "source": [
    "10. What is difference between the list methods append() and insert()?\n",
    "\n",
    "\n",
    "Answer to question 10:\n",
    "    \n",
    "    \n",
    "Append() is used to add any item to the end of a list and insert() is used to add any item at a particular index in a list."
   ]
  },
  {
   "cell_type": "code",
   "execution_count": null,
   "id": "736dc388-e34c-48ce-bab7-409df1022780",
   "metadata": {},
   "outputs": [],
   "source": [
    "11. What are the two methods for removing items from a list?\n",
    "\n",
    "\n",
    "Answer to question 11:\n",
    "    \n",
    "    \n",
    "remove() and pop() are used to remove elements from a list."
   ]
  },
  {
   "cell_type": "code",
   "execution_count": null,
   "id": "e480d681-9203-4dfa-bcda-19736c4bf5aa",
   "metadata": {},
   "outputs": [],
   "source": [
    "12. Describe how list values and string values are identical.\n",
    "\n",
    "\n",
    "\n",
    "Answer top question 12:\n",
    "    \n",
    "    \n",
    "a) Have indexes and slicing can be done.\n",
    "b) Both lists and strings can be passed to len().\n",
    "c) Can be concatenated or replicated.\n",
    "d) Can be used with the in and not in operators."
   ]
  },
  {
   "cell_type": "code",
   "execution_count": null,
   "id": "389984a2-1273-4acc-b620-75addf5b740d",
   "metadata": {},
   "outputs": [],
   "source": [
    "13. What is the difference between tuples and lists?\n",
    "\n",
    "\n",
    "Answer to question 13:\n",
    "    \n",
    "    \n",
    "Lists : are mutable i.e they can have values added, removed, or changed. lists use the square brackets and\n",
    "Tuples : are immutable i.e they cannot be changed at all. Tuples are written using parentheses."
   ]
  },
  {
   "cell_type": "code",
   "execution_count": null,
   "id": "16d4b2a2-8e5d-4fca-bfe5-ab6170e41dfc",
   "metadata": {},
   "outputs": [],
   "source": [
    "14. How do you type a tuple value that only contains the integer 42?\n",
    "\n",
    "\n",
    "Answer to question 14:\n",
    "    \n",
    "    \n",
    "t=(42)"
   ]
  },
  {
   "cell_type": "code",
   "execution_count": 9,
   "id": "09cb9c78-98b0-4df7-8b8a-78cfbcb952db",
   "metadata": {},
   "outputs": [],
   "source": [
    "t=(42)"
   ]
  },
  {
   "cell_type": "code",
   "execution_count": 10,
   "id": "11796706-8f77-4289-be85-5ff3bd3fa365",
   "metadata": {},
   "outputs": [
    {
     "data": {
      "text/plain": [
       "42"
      ]
     },
     "execution_count": 10,
     "metadata": {},
     "output_type": "execute_result"
    }
   ],
   "source": [
    "t"
   ]
  },
  {
   "cell_type": "code",
   "execution_count": null,
   "id": "6e93921b-81f6-4ccb-842d-c9caf88525bb",
   "metadata": {},
   "outputs": [],
   "source": [
    "15. How do you get a list value's tuple form? How do you get a tuple value's list form?\n",
    "\n",
    "\n",
    "Answer to question 15:\n",
    "    \n",
    "    \n",
    "l=[3,4,5,6]\n",
    "t=tuple(l)\n",
    "t \n",
    "will convert a list into tuple.\n",
    "\n",
    "\n",
    "tt= (1,2,3,4)\n",
    "ll=list(tt)\n",
    "ll\n",
    "will convert a tuple into list."
   ]
  },
  {
   "cell_type": "code",
   "execution_count": null,
   "id": "21f35ffa-51d5-4546-923c-3a08c1208054",
   "metadata": {},
   "outputs": [],
   "source": [
    "16. Variables that \"contain\" list values are not necessarily lists themselves. Instead, what do they contain?\n",
    "\n",
    "\n",
    "Answer to question 16:\n",
    "    \n",
    "    \n",
    "They contain references to list values."
   ]
  },
  {
   "cell_type": "code",
   "execution_count": null,
   "id": "bd1a3408-4dbe-4210-8c3c-d76e60f19a87",
   "metadata": {},
   "outputs": [],
   "source": [
    "17. How do you distinguish between copy.copy() and copy.deepcopy()?\n",
    "\n",
    "\n",
    "Answer to question 17:\n",
    "    \n",
    "    \n"
   ]
  }
 ],
 "metadata": {
  "kernelspec": {
   "display_name": "Python 3 (ipykernel)",
   "language": "python",
   "name": "python3"
  },
  "language_info": {
   "codemirror_mode": {
    "name": "ipython",
    "version": 3
   },
   "file_extension": ".py",
   "mimetype": "text/x-python",
   "name": "python",
   "nbconvert_exporter": "python",
   "pygments_lexer": "ipython3",
   "version": "3.10.6"
  }
 },
 "nbformat": 4,
 "nbformat_minor": 5
}
