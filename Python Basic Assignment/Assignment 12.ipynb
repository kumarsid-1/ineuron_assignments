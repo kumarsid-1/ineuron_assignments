{
 "cells": [
  {
   "cell_type": "code",
   "execution_count": null,
   "id": "26322fae-d731-4c74-8121-0ecdada224f4",
   "metadata": {},
   "outputs": [],
   "source": [
    "1. In what modes should the PdfFileReader() and PdfFileWriter() File objects will be opened?\n",
    "\n",
    "\n",
    "Answer to question 1:\n",
    "    \n",
    "    \n",
    "For PdfFileReader() file objects should be opened in rb -> read binary mode.\n",
    "And for PdfFileWriter() file objects should be opened in wb -> write binary mode."
   ]
  },
  {
   "cell_type": "code",
   "execution_count": null,
   "id": "71be2a71-c48e-4967-a3cf-c89fa8f6bdf0",
   "metadata": {},
   "outputs": [],
   "source": [
    "2. From a PdfFileReader object, how do you get a Page object for page 5?\n",
    "\n",
    "\n",
    "Answer to question 2:\n",
    "    \n",
    "    \n",
    "getPage(page_no) is available in the PdfFileReader class to get a page object."
   ]
  },
  {
   "cell_type": "code",
   "execution_count": null,
   "id": "6590389b-db92-481f-86dd-684329b355d5",
   "metadata": {},
   "outputs": [],
   "source": [
    "3. What PdfFileReader variable stores the number of pages in the PDF document?\n",
    "\n",
    "\n",
    "Answer to question 3:\n",
    "    \n",
    "    \n",
    "getNumPages() method of PdfFileReader class stores the number of pages in a PDF document."
   ]
  },
  {
   "cell_type": "code",
   "execution_count": null,
   "id": "443dfec4-19ad-4d0c-9f46-fe84750aa826",
   "metadata": {},
   "outputs": [],
   "source": [
    "4. If a PdfFileReader object’s PDF is encrypted with the password swordfish, what must you do before you can obtain Page objects from it?\n",
    "\n",
    "\n",
    "Answer to question 4:\n",
    "    \n",
    "    \n",
    "    \n",
    "If a PdfFileReader object’s PDF is encrypted with the password swordfish and you're not aware of it. \n",
    "First read the Pdf using the PdfFileReader Class. \n",
    "PdfFileReader class provides a attribute called isEncrypted to check whether a pdf is encrypted or not. the method returns true if a pdf is encrypted and vice versa.\n",
    "if pdf is encrypted use the decrypt() method provided by PdfFileReader class first then try to read the contents/pages of the pdf, \n",
    "else PyPDF2 will raise the following error PyPDF2.utils.PdfReadError: file has not been decrypted."
   ]
  },
  {
   "cell_type": "code",
   "execution_count": null,
   "id": "b0caadfc-9d19-4ab3-875b-4fb786b56db9",
   "metadata": {},
   "outputs": [],
   "source": [
    "5. What methods do you use to rotate a page?\n",
    "\n",
    "\n",
    "Answer to question 5:\n",
    "    \n",
    "\n",
    "Two methods to rotate a page are:\n",
    "a) rotateClockWise() -> For Clockwise rotation\n",
    "b) rotateCounterClockWise() -> For Counter Clockwise rotation"
   ]
  },
  {
   "cell_type": "code",
   "execution_count": null,
   "id": "b6a00ebd-6850-4448-a910-90376e84dc1e",
   "metadata": {},
   "outputs": [],
   "source": [
    "6. What is the difference between a Run object and a Paragraph object?\n",
    "\n",
    "\n",
    "Answer to question 6:\n",
    "    \n",
    "    \n",
    "The structure of a document is represented by three different data types in python-Docx. At the highest level, a Document object represents the entire document. \n",
    "The Document object contains a list of Paragraph objects for the paragraphs in the document. (A new paragraph begins whenever the user presses ENTER or RETURN while typing in a Word document.) \n",
    "Each of these Paragraph objects contains a list of one or more Run objects."
   ]
  },
  {
   "cell_type": "code",
   "execution_count": null,
   "id": "d30f56d4-a93c-434b-a1c2-35e0918705aa",
   "metadata": {},
   "outputs": [],
   "source": [
    "7. How do you obtain a list of Paragraph objects for a Document object that’s stored in a variable named doc?\n",
    "\n",
    "\n",
    "Answer to question 7:\n",
    "    "
   ]
  },
  {
   "cell_type": "code",
   "execution_count": null,
   "id": "b0dfdfd1-ff54-4470-92cf-11400aaf1869",
   "metadata": {},
   "outputs": [],
   "source": [
    "from docx import Document\n",
    "dc = Document(\"sample_file.docx\") \n",
    "print(dc.paragraphs) \n",
    "for paragraph in dc.paragraphs:\n",
    "    print(paragraph.text) "
   ]
  },
  {
   "cell_type": "code",
   "execution_count": 2,
   "id": "2faa4539-a0b8-4af9-9532-e977049e2cd3",
   "metadata": {},
   "outputs": [
    {
     "name": "stdout",
     "output_type": "stream",
     "text": [
      "Collecting docx\n",
      "  Downloading docx-0.2.4.tar.gz (54 kB)\n",
      "\u001b[2K     \u001b[90m━━━━━━━━━━━━━━━━━━━━━━━━━━━━━━━━━━━━━━━━\u001b[0m \u001b[32m54.9/54.9 kB\u001b[0m \u001b[31m2.1 MB/s\u001b[0m eta \u001b[36m0:00:00\u001b[0m\n",
      "\u001b[?25h  Preparing metadata (setup.py) ... \u001b[?25ldone\n",
      "\u001b[?25hCollecting lxml\n",
      "  Downloading lxml-4.9.2-cp310-cp310-manylinux_2_17_x86_64.manylinux2014_x86_64.manylinux_2_24_x86_64.whl (7.1 MB)\n",
      "\u001b[2K     \u001b[90m━━━━━━━━━━━━━━━━━━━━━━━━━━━━━━━━━━━━━━━━\u001b[0m \u001b[32m7.1/7.1 MB\u001b[0m \u001b[31m8.1 MB/s\u001b[0m eta \u001b[36m0:00:00\u001b[0m00:01\u001b[0m00:01\u001b[0m\n",
      "\u001b[?25hRequirement already satisfied: Pillow>=2.0 in /opt/conda/lib/python3.10/site-packages (from docx) (9.2.0)\n",
      "Building wheels for collected packages: docx\n",
      "  Building wheel for docx (setup.py) ... \u001b[?25ldone\n",
      "\u001b[?25h  Created wheel for docx: filename=docx-0.2.4-py3-none-any.whl size=53897 sha256=d8dae7bfb2fcac0ab57b9cd14e61c948de6454fb9ac397b64c84cabd51beb55a\n",
      "  Stored in directory: /home/jovyan/.cache/pip/wheels/34/71/d1/6627e591572f0d8f43d326046644eaf8a7266f52d35fb71afc\n",
      "Successfully built docx\n",
      "Installing collected packages: lxml, docx\n",
      "Successfully installed docx-0.2.4 lxml-4.9.2\n",
      "Note: you may need to restart the kernel to use updated packages.\n"
     ]
    }
   ],
   "source": [
    "pip install docx"
   ]
  },
  {
   "cell_type": "code",
   "execution_count": null,
   "id": "c5b68a44-4b85-4a6c-a730-4180363d9484",
   "metadata": {},
   "outputs": [],
   "source": [
    "8. What type of object has bold, underline, italic, strike, and outline variables?\n",
    "\n",
    "\n",
    "Answer to question 8:\n",
    "    \n",
    "    \n",
    "Run object has bold, underline, italic, strike, and outline variables. The text in a Word document is more than just a string. \n",
    "It has font, size, color, and other styling information associated with it.   "
   ]
  },
  {
   "cell_type": "code",
   "execution_count": null,
   "id": "3fb92106-fb4f-4928-b8b0-7cd9351cee2e",
   "metadata": {},
   "outputs": [],
   "source": [
    "9. What is the difference between False, True, and None for the bold variable?\n",
    "\n",
    "\n",
    "Answer to question 9:\n",
    "    \n",
    "    \n",
    "bold = True  # Style Set to Bold\n",
    "bold = False # Style Not Set to Bold\n",
    "bold = None # Style is Not Applicable"
   ]
  },
  {
   "cell_type": "code",
   "execution_count": null,
   "id": "b70c7de1-27b9-45d6-bca4-cc19d45913e4",
   "metadata": {},
   "outputs": [],
   "source": [
    "10. How do you create a Document object for a new Word document?\n",
    "\n",
    "\n",
    "Answer to question 10:"
   ]
  },
  {
   "cell_type": "code",
   "execution_count": null,
   "id": "ea9db50d-b414-4db9-a192-68fc73d50c68",
   "metadata": {},
   "outputs": [],
   "source": [
    "from docx import Document\n",
    "document = Document()\n",
    "document.add_paragraph(\"Something big is going to happen...!!!!\")\n",
    "document.save('docudo.docx')"
   ]
  },
  {
   "cell_type": "code",
   "execution_count": null,
   "id": "7cec1928-fee3-43aa-9d0f-bd47236c847e",
   "metadata": {},
   "outputs": [],
   "source": [
    "11. How do you add a paragraph with the text 'Hello, there!' to a Document object stored in a variable named doc?\n",
    "\n",
    "\n",
    "Answer to question 11:\n",
    "   "
   ]
  },
  {
   "cell_type": "code",
   "execution_count": null,
   "id": "ae4b062a-e973-4a47-abb1-fa6b8f300d38",
   "metadata": {},
   "outputs": [],
   "source": [
    "from docx import Document\n",
    "doc = Document()\n",
    "doc.add_paragraph('Hello, there!')\n",
    "doc.save('docu.docx')"
   ]
  },
  {
   "cell_type": "code",
   "execution_count": null,
   "id": "cf41a094-5ef2-4c85-af32-32a094cdecf9",
   "metadata": {},
   "outputs": [],
   "source": [
    "12. What integers represent the levels of headings available in Word documents?\n",
    "\n",
    "\n",
    "Answer to question 12:\n",
    "    \n",
    "    \n",
    "The levels for a heading in a word document can be specified by using the level attribute inside the add_heading method. \n",
    "There are a total of 5 levels statring for 0 t0 4. where level 0 makes a headline with the horizontal line below the text, whereas the heading level 1 is the main heading. \n",
    "Similarly, the other headings are sub-heading with their's font-sizes in decreasing order."
   ]
  }
 ],
 "metadata": {
  "kernelspec": {
   "display_name": "Python 3 (ipykernel)",
   "language": "python",
   "name": "python3"
  },
  "language_info": {
   "codemirror_mode": {
    "name": "ipython",
    "version": 3
   },
   "file_extension": ".py",
   "mimetype": "text/x-python",
   "name": "python",
   "nbconvert_exporter": "python",
   "pygments_lexer": "ipython3",
   "version": "3.10.6"
  }
 },
 "nbformat": 4,
 "nbformat_minor": 5
}
