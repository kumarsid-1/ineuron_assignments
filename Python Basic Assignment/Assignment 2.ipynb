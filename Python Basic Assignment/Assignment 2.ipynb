{
 "cells": [
  {
   "cell_type": "code",
   "execution_count": null,
   "id": "20b60df3-736f-4fbe-9ed3-e3f2b8f8efb5",
   "metadata": {},
   "outputs": [],
   "source": [
    "1.What are the two values of the Boolean data type? How do you write them?\n",
    "\n",
    "\n",
    "\n",
    "Answer to question 1:\n",
    "    \n",
    "       \n",
    "    \n",
    "The two values of the Boolean data type are true and false. They are written as such: True and False.\n",
    "Numerically we denote True as 1 and False as 0."
   ]
  },
  {
   "cell_type": "code",
   "execution_count": null,
   "id": "63f75ebc-fe3b-42df-8cb4-052f2256b4b6",
   "metadata": {},
   "outputs": [],
   "source": [
    "2. What are the three different types of Boolean operators?\n",
    "\n",
    "\n",
    "\n",
    "Answer to question 2:\n",
    "    \n",
    "    \n",
    "The three basic boolean operators are: AND, OR, and NOT."
   ]
  },
  {
   "cell_type": "code",
   "execution_count": null,
   "id": "d37d71eb-10ed-4ae8-a962-e0a33e166815",
   "metadata": {},
   "outputs": [],
   "source": [
    "3. Make a list of each Boolean operator's truth tables (i.e. every possible combination of Boolean\n",
    "values for the operator and what it evaluate ).\n",
    "\n",
    "\n",
    "\n",
    "Answer to question 3:\n",
    "    \n",
    "    \n",
    "    \n",
    "Truth Table for AND\n",
    "A B output\n",
    "0 0 0\n",
    "0 1 0\n",
    "1 0 0\n",
    "1 1 1\n",
    "Truth Table for OR\n",
    "A B output\n",
    "0 0 0\n",
    "0 1 1\n",
    "1 0 1\n",
    "1 1 1\n",
    "Truth Table for NOT\n",
    "A output\n",
    "0 1\n",
    "1 0"
   ]
  },
  {
   "cell_type": "code",
   "execution_count": null,
   "id": "acbbe193-9ad5-411a-956a-e3ab35c30cfd",
   "metadata": {},
   "outputs": [],
   "source": [
    "4. What are the values of the following expressions?\n",
    "a) ((5>4) and (3==5))\n",
    "b) (not(5>4))\n",
    "c) ((5>4) or (3==5))\n",
    "d) (not(5>4) or (3==5))\n",
    "e) ((True and True) and (True==False))\n",
    "f) ((not(False))or(not(True)))\n",
    "\n",
    "\n",
    "\n",
    "\n",
    "Answer to question 4:\n",
    "    \n",
    "    \n",
    "    \n",
    "a) False\n",
    "b) False\n",
    "c) True\n",
    "d) False\n",
    "e) False\n",
    "f) True"
   ]
  },
  {
   "cell_type": "code",
   "execution_count": null,
   "id": "3dbf9c1b-078d-4456-87ae-b114b3f211ec",
   "metadata": {},
   "outputs": [],
   "source": [
    "5. What are the six comparison operators?\n",
    "\n",
    "\n",
    "\n",
    "Answer to question 5:\n",
    "    \n",
    "    \n",
    "    \n",
    "==, !=, <, >, <= and >= are the six comparision operators."
   ]
  },
  {
   "cell_type": "code",
   "execution_count": null,
   "id": "c661004e-4b4a-4862-9378-f5681315852d",
   "metadata": {},
   "outputs": [],
   "source": [
    "6. How do you tell the difference between the equal to and assignment operators?Describe a condition and when you would use one.\n",
    "\n",
    "\n",
    "\n",
    "Answer to question 6:\n",
    "    \n",
    "    \n",
    "    \n",
    "= is the assignment operator and it is use to store value in a variable and on the other hand\n",
    "== is the equal to operator that compares two values and evaluates to a Boolean."
   ]
  },
  {
   "cell_type": "code",
   "execution_count": null,
   "id": "33248912-4795-4ff5-b95c-936f46c296a6",
   "metadata": {},
   "outputs": [],
   "source": [
    "7. Identify the three blocks in this code:\n",
    "\n",
    "    \n",
    "    \n",
    "Answer to question 7:\n",
    "    \n",
    "    \n",
    "spam = 0\n",
    "if spam == 10:\n",
    "    print('eggs') #Block 1\n",
    "if spam > 5:\n",
    "    print('bacon') #Block 2\n",
    "else:\n",
    "    print('ham') #Block 3\n",
    "    print('spam')\n",
    "    print('spam')\n",
    "    \n",
    "    \n",
    "Two if blocks and one else block."
   ]
  },
  {
   "cell_type": "code",
   "execution_count": null,
   "id": "545d56da-9d6a-4362-8394-81de5c9484d0",
   "metadata": {},
   "outputs": [],
   "source": [
    "8. Write code that prints Hello if 1 is stored in spam, prints Howdy if 2 is stored in spam, and prints Greetings! if anything else is stored in spam.\n",
    "\n",
    "\n",
    "\n",
    "Answer to question 8:\n",
    "    \n",
    "    \n",
    "spam = int(input(\"Enter any number\"))\n",
    "if spam==1:\n",
    "    print(\"Hello\")\n",
    "elif spam==2:\n",
    "    print(\"Howdy\")\n",
    "else:\n",
    "    print(\"Greetings!\")"
   ]
  },
  {
   "cell_type": "code",
   "execution_count": null,
   "id": "ca5321bb-4dba-42d6-bc83-0077757dfe59",
   "metadata": {},
   "outputs": [
    {
     "name": "stdin",
     "output_type": "stream",
     "text": [
      "Enter any number 2\n"
     ]
    },
    {
     "name": "stdout",
     "output_type": "stream",
     "text": [
      "Howdy\n"
     ]
    }
   ],
   "source": [
    "spam = int(input(\"Enter any number\"))\n",
    "if spam==1:\n",
    "    print(\"Hello\")\n",
    "elif spam==2:\n",
    "    print(\"Howdy\")\n",
    "else:\n",
    "    print(\"Greetings!\")"
   ]
  },
  {
   "cell_type": "code",
   "execution_count": null,
   "id": "e1815d33-b496-4658-b271-58b159cb4368",
   "metadata": {},
   "outputs": [],
   "source": [
    "9.If your programme is stuck in an endless loop, what keys you’ll press?\n",
    "\n",
    "\n",
    "\n",
    "Answer to question 9:\n",
    "    \n",
    "    \n",
    "    \n",
    "If program is stuck in endless loop we will press ctrl+c."
   ]
  },
  {
   "cell_type": "code",
   "execution_count": null,
   "id": "6a9a7e2a-8b6b-48b5-9ea6-b26be3f04801",
   "metadata": {},
   "outputs": [],
   "source": [
    "10. How can you tell the difference between break and continue?\n",
    "\n",
    "\n",
    "\n",
    "Answer to question 10:\n",
    "    \n",
    "    \n",
    "    \n",
    "The break statement will move the execution outside and just after a loop. The continue statement will move the execution to the start of the loop.\n",
    "\n",
    "\n",
    "for example:"
   ]
  },
  {
   "cell_type": "code",
   "execution_count": 5,
   "id": "362f57e4-4e59-4a32-9773-94052423a2b8",
   "metadata": {},
   "outputs": [
    {
     "name": "stdout",
     "output_type": "stream",
     "text": [
      "0\n",
      "1\n",
      "2\n",
      "3\n",
      "4\n"
     ]
    }
   ],
   "source": [
    "for i in range (10):\n",
    "    if i==5:\n",
    "        break\n",
    "    print(i)"
   ]
  },
  {
   "cell_type": "code",
   "execution_count": 6,
   "id": "c7d54d96-17da-4b15-932a-4a3143e22975",
   "metadata": {},
   "outputs": [
    {
     "name": "stdout",
     "output_type": "stream",
     "text": [
      "0\n",
      "1\n",
      "2\n",
      "3\n",
      "4\n",
      "6\n",
      "7\n",
      "8\n",
      "9\n"
     ]
    }
   ],
   "source": [
    "for i in range (10):\n",
    "    if i==5:\n",
    "        continue\n",
    "    print(i)"
   ]
  },
  {
   "cell_type": "code",
   "execution_count": null,
   "id": "b68a4981-cb50-48f6-be2b-70b3a25b927f",
   "metadata": {},
   "outputs": [],
   "source": [
    "11. In a for loop, what is the difference between range(10), range(0, 10), and range(0, 10, 1)?\n",
    "\n",
    "\n",
    "\n",
    "Answer to question 11:\n",
    "    \n",
    "    \n",
    "The range(10) call ranges from 0 up to (but not including) 10, \n",
    "range(0, 10) tells the loop to start at 0, \n",
    "and range(0, 10, 1) tells the loop to increase the variable by 1 on each iteration.\n",
    "\n",
    "Basically they all do the same job."
   ]
  },
  {
   "cell_type": "code",
   "execution_count": null,
   "id": "cc46815e-9cb9-4dce-b928-04ba7a5559f5",
   "metadata": {},
   "outputs": [],
   "source": [
    "12. Write a short program that prints the numbers 1 to 10 using a for loop. Then write an equivalent program that prints the numbers 1 to 10 using a while loop.\n",
    "\n",
    "\n",
    "\n",
    "Answer to question 12:\n",
    "    \n",
    "    \n",
    "USING FOR LOOP:\n",
    "\n",
    "for i in range(1,11):\n",
    "    print(i)\n",
    "    \n",
    "USING WHILE LOOP:\n",
    "    \n",
    "a =1\n",
    "while a <= 10:\n",
    "    print(a)\n",
    "    a+=1"
   ]
  },
  {
   "cell_type": "code",
   "execution_count": null,
   "id": "a1b3fff2-a2be-406f-854e-76a9371c28c9",
   "metadata": {},
   "outputs": [],
   "source": [
    "13. If you had a function named bacon() inside a module named spam, how would you call it after importing spam?\n",
    "\n",
    "\n",
    "\n",
    "Answer to question 13:\n",
    "   \n",
    "\n",
    "\n",
    "This function can be called with spam.bacon()."
   ]
  }
 ],
 "metadata": {
  "kernelspec": {
   "display_name": "Python 3 (ipykernel)",
   "language": "python",
   "name": "python3"
  },
  "language_info": {
   "codemirror_mode": {
    "name": "ipython",
    "version": 3
   },
   "file_extension": ".py",
   "mimetype": "text/x-python",
   "name": "python",
   "nbconvert_exporter": "python",
   "pygments_lexer": "ipython3",
   "version": "3.10.6"
  }
 },
 "nbformat": 4,
 "nbformat_minor": 5
}
