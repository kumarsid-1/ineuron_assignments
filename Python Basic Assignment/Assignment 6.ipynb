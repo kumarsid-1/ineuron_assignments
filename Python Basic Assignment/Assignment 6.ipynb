{
 "cells": [
  {
   "cell_type": "code",
   "execution_count": null,
   "id": "18437f3d-2527-41bb-a71a-8cf1a39b6090",
   "metadata": {},
   "outputs": [],
   "source": [
    "1. What are escape characters, and how do you use them?\n",
    "\n",
    "\n",
    "Answer to question 1:\n",
    "    \n",
    "    \n",
    "Escape characters represent characters in string values that would otherwise be difficult or impossible to type into code. \n",
    "We can use the backslash character to escape a single character or symbol."
   ]
  },
  {
   "cell_type": "code",
   "execution_count": null,
   "id": "071d7726-956a-4bc7-b4e8-1e667fde172f",
   "metadata": {},
   "outputs": [],
   "source": [
    "2.What do the escape characters n and t stand for ?\n",
    "\n",
    "\n",
    "Answer to question 2:\n",
    "    \n",
    "    \n",
    "\n",
    "\\n is a newline.\n",
    "\\t is a tab."
   ]
  },
  {
   "cell_type": "code",
   "execution_count": null,
   "id": "d0c32b9c-4969-4e5c-bf73-9e84e7a4ba0e",
   "metadata": {},
   "outputs": [],
   "source": [
    "4.The string \"Howl's Moving Castle\" is a correct value. Why isn't the single quote character in the word Howl's not escaped a problem ?\n",
    "\n",
    "\n",
    "Answer to question 4:\n",
    "    \n",
    "    \n",
    "This is because it is wrapped inside double quotes.\n",
    "If it was wrapped inside single quotes then hen we have to use escape character \\' to show single quote in the final output."
   ]
  },
  {
   "cell_type": "code",
   "execution_count": null,
   "id": "7003e57b-3b7b-4ce5-8a27-55116c02753c",
   "metadata": {},
   "outputs": [],
   "source": [
    "5.How do you write a string of newlines if you don't want to use the n character?\n",
    "\n",
    "\n",
    "Answer to question 5:\n",
    "    \n",
    "    \n",
    "Multiline string allow you to use newlines in string without the \\n escape character."
   ]
  },
  {
   "cell_type": "code",
   "execution_count": null,
   "id": "8c9e879f-64f2-418a-8a0a-2565044af0fa",
   "metadata": {},
   "outputs": [],
   "source": [
    "6.What are the values of the given expressions ?\n",
    "a) 'Hello, world!'[1]\n",
    "b) 'Hello, world!'[0:5]\n",
    "c) 'Hello, world!'[:5]\n",
    "d) 'Hello, world!'[3:]\n",
    "\n",
    "\n",
    "Answer to question 6:\n",
    "    \n",
    "    \n",
    "a) 'e'\n",
    "b) 'Hello'\n",
    "c) 'Hello'\n",
    "d) 'lo, world!'"
   ]
  },
  {
   "cell_type": "code",
   "execution_count": null,
   "id": "f4178a79-3ec0-43c5-9805-70a9cfac9a7e",
   "metadata": {},
   "outputs": [],
   "source": [
    "7.What are the values of the following expressions ?\n",
    "a) 'Hello'.upper()\n",
    "b) 'Hello'.upper().isupper()\n",
    "c) 'Hello'.upper().lower()\n",
    "\n",
    "\n",
    "Answer to question 7:\n",
    "    \n",
    "    \n",
    "a) 'HELLO'\n",
    "b) True\n",
    "c) 'hello'"
   ]
  },
  {
   "cell_type": "code",
   "execution_count": null,
   "id": "581adaa5-f3fd-47f6-8bfc-921c9b86396c",
   "metadata": {},
   "outputs": [],
   "source": [
    "8.What are the values of the following expressions ?\n",
    "'Remember, remember, the fifith of July.'.split()\n",
    "'-'.join('There can only one'.split())\n",
    "\n",
    "\n",
    "Answer to question 8:"
   ]
  },
  {
   "cell_type": "code",
   "execution_count": 1,
   "id": "50d1d484-048e-4022-baab-d8327322c628",
   "metadata": {},
   "outputs": [
    {
     "data": {
      "text/plain": [
       "['Remember,', 'remember,', 'the', 'fifith', 'of', 'July.']"
      ]
     },
     "execution_count": 1,
     "metadata": {},
     "output_type": "execute_result"
    }
   ],
   "source": [
    "'Remember, remember, the fifith of July.'.split()"
   ]
  },
  {
   "cell_type": "code",
   "execution_count": 2,
   "id": "9bfda94c-7d8c-4359-bf90-d9368d547211",
   "metadata": {},
   "outputs": [
    {
     "data": {
      "text/plain": [
       "'There-can-only-one'"
      ]
     },
     "execution_count": 2,
     "metadata": {},
     "output_type": "execute_result"
    }
   ],
   "source": [
    "'-'.join('There can only one'.split())"
   ]
  },
  {
   "cell_type": "code",
   "execution_count": null,
   "id": "b60c817a-87b4-49c7-b570-def5e254ae69",
   "metadata": {},
   "outputs": [],
   "source": [
    "9.What are the methods for right-justifying, left-justifying and centering a string ?\n",
    "\n",
    "\n",
    "Answer to question 9:\n",
    "    \n",
    "    \n",
    "The rjust() for right-justifying\n",
    "ljust() for left-justifying and \n",
    "center() for centering string methods."
   ]
  },
  {
   "cell_type": "code",
   "execution_count": null,
   "id": "55aa37ce-27b3-4568-a80f-20fe8337fae0",
   "metadata": {},
   "outputs": [],
   "source": [
    "10.What is the best way to remove whitespace characters from the start or end ?\n",
    "\n",
    "\n",
    "Answer to question 10:\n",
    "    \n",
    "    \n",
    "The lstrip() and rstrip() methods remove whitesapce characters from the start and end."
   ]
  }
 ],
 "metadata": {
  "kernelspec": {
   "display_name": "Python 3 (ipykernel)",
   "language": "python",
   "name": "python3"
  },
  "language_info": {
   "codemirror_mode": {
    "name": "ipython",
    "version": 3
   },
   "file_extension": ".py",
   "mimetype": "text/x-python",
   "name": "python",
   "nbconvert_exporter": "python",
   "pygments_lexer": "ipython3",
   "version": "3.10.6"
  }
 },
 "nbformat": 4,
 "nbformat_minor": 5
}
