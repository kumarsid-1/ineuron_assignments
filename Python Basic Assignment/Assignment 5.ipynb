{
 "cells": [
  {
   "cell_type": "code",
   "execution_count": null,
   "id": "7585dc30-a4fa-4c84-b157-06fc023ef68f",
   "metadata": {},
   "outputs": [],
   "source": [
    "1. What does an empty dictionary's code look like?\n",
    "\n",
    "\n",
    "Answer to question 1:\n",
    "    \n",
    "    \n",
    "\n",
    "dict = {} is how we denote empty dictionary"
   ]
  },
  {
   "cell_type": "code",
   "execution_count": null,
   "id": "31bdeefa-913f-46b2-bccd-5205a0b5b191",
   "metadata": {},
   "outputs": [],
   "source": [
    "2. What is the value of a dictionary value with the key 'foo' and the value 42?\n",
    "\n",
    "\n",
    "Answer to question 2:\n",
    "    \n",
    "    \n",
    "\n",
    "{'foo':42}"
   ]
  },
  {
   "cell_type": "code",
   "execution_count": null,
   "id": "192aa80f-73a6-4c3d-8b43-51713655a25b",
   "metadata": {},
   "outputs": [],
   "source": [
    "3. What is the most significant distinction between a dictionary and a list?\n",
    "\n",
    "\n",
    "Answer to question 3:\n",
    "    \n",
    "    \n",
    "    \n",
    "Most significant difference between list and dictionary is :\n",
    "Items in list are Ordered on the other hand,\n",
    "In Dictionary items are unordered."
   ]
  },
  {
   "cell_type": "code",
   "execution_count": null,
   "id": "42f5f5a8-21ef-4ed4-bbc6-d8670a0587a6",
   "metadata": {},
   "outputs": [],
   "source": [
    "4. What happens if you try to access spam['foo'] if spam is {'bar': 100}?\n",
    "\n",
    "\n",
    "Answer to question 4:\n",
    "    \n",
    "    \n",
    "This will give key error as key 'foo' does not exist."
   ]
  },
  {
   "cell_type": "code",
   "execution_count": null,
   "id": "00a52c1a-5dd2-4af8-964e-51070933b3fd",
   "metadata": {},
   "outputs": [],
   "source": [
    "5. If a dictionary is stored in spam, what is the difference between the expressions 'cat' in spam and 'cat' in spam.keys()?\n",
    "\n",
    "\n",
    "Answer to question 5:\n",
    "    \n",
    "    \n",
    "Actually there will be no difference."
   ]
  },
  {
   "cell_type": "code",
   "execution_count": 5,
   "id": "2e8b214d-f7e2-4832-aa43-51b57f819904",
   "metadata": {},
   "outputs": [
    {
     "data": {
      "text/plain": [
       "True"
      ]
     },
     "execution_count": 5,
     "metadata": {},
     "output_type": "execute_result"
    }
   ],
   "source": [
    "spam ={'cat':1}\n",
    "'cat' in spam"
   ]
  },
  {
   "cell_type": "code",
   "execution_count": 2,
   "id": "70c10c35-0cbc-4afd-a03e-5084da9038e8",
   "metadata": {},
   "outputs": [
    {
     "data": {
      "text/plain": [
       "True"
      ]
     },
     "execution_count": 2,
     "metadata": {},
     "output_type": "execute_result"
    }
   ],
   "source": [
    "'cat' in spam.keys()"
   ]
  },
  {
   "cell_type": "code",
   "execution_count": null,
   "id": "8959b648-ac3b-42cd-aa87-d6bd4c9875d6",
   "metadata": {},
   "outputs": [],
   "source": [
    "6. If a dictionary is stored in spam, what is the difference between the expressions 'cat' in spam and 'cat' in spam.values()?\n",
    "\n",
    "\n",
    "Answer to question 6:\n",
    "    \n",
    "    \n",
    "'cat' in spam will give True and\n",
    "'cat' in spam.values() will give False."
   ]
  },
  {
   "cell_type": "code",
   "execution_count": 6,
   "id": "6ca160da-dd40-4d75-a002-ba5423ca00a3",
   "metadata": {},
   "outputs": [
    {
     "data": {
      "text/plain": [
       "True"
      ]
     },
     "execution_count": 6,
     "metadata": {},
     "output_type": "execute_result"
    }
   ],
   "source": [
    "spam ={'cat':10}\n",
    "'cat' in spam"
   ]
  },
  {
   "cell_type": "code",
   "execution_count": 7,
   "id": "55fa01cc-99a6-4913-873d-00a85f920689",
   "metadata": {},
   "outputs": [
    {
     "data": {
      "text/plain": [
       "False"
      ]
     },
     "execution_count": 7,
     "metadata": {},
     "output_type": "execute_result"
    }
   ],
   "source": [
    "spam ={'cat':10}\n",
    "'cat' in spam.values()"
   ]
  },
  {
   "cell_type": "code",
   "execution_count": null,
   "id": "31087a9a-2372-4120-9251-7d65a42be3e2",
   "metadata": {},
   "outputs": [],
   "source": [
    "7. What is a shortcut for the following code?\n",
    "if 'color' not in spam:\n",
    "    spam['color'] = 'black'\n",
    "    \n",
    "    \n",
    "Answer to question 7:"
   ]
  },
  {
   "cell_type": "code",
   "execution_count": 12,
   "id": "0b7d73aa-d2d4-49d2-829c-ed56bc8cd306",
   "metadata": {},
   "outputs": [
    {
     "data": {
      "text/plain": [
       "{'kl': 1, 'color': 'black'}"
      ]
     },
     "execution_count": 12,
     "metadata": {},
     "output_type": "execute_result"
    }
   ],
   "source": [
    "spam ={'kl':1}\n",
    "spam.setdefault('color','black')\n",
    "spam"
   ]
  },
  {
   "cell_type": "code",
   "execution_count": null,
   "id": "47913170-7682-41e5-98cc-3b3c6c3ca7b2",
   "metadata": {},
   "outputs": [],
   "source": [
    "8. How do you 'pretty print' dictionary values using which module and function?\n",
    "\n",
    "\n",
    "Answer to question 8:\n",
    "    \n",
    "    \n",
    "Pretty Print is done using \n",
    "import pprint module and\n",
    "pprint.pprint(d) is the function used."
   ]
  },
  {
   "cell_type": "code",
   "execution_count": 13,
   "id": "c340373c-f6cc-4616-9e85-de78cdd50e3c",
   "metadata": {},
   "outputs": [],
   "source": [
    "capital_city = [{\"Nepal\": \"Kathmandu\", \"Italy\": \"Rome\", \"England\": \"London\"}\n",
    "               {\"Nepal\": \"Kathmandu\", \"Italy\": \"Rome\", \"England\": \"London\"}]"
   ]
  },
  {
   "cell_type": "code",
   "execution_count": 14,
   "id": "b0081183-e623-47e8-a27a-55cae05f2f04",
   "metadata": {},
   "outputs": [
    {
     "name": "stdout",
     "output_type": "stream",
     "text": [
      "{'Nepal': 'Kathmandu', 'Italy': 'Rome', 'England': 'London'}\n"
     ]
    }
   ],
   "source": [
    "print(capital_city)"
   ]
  },
  {
   "cell_type": "code",
   "execution_count": null,
   "id": "ab7eb35a-0d0f-4e42-980d-e7f4ee3fd779",
   "metadata": {},
   "outputs": [],
   "source": []
  }
 ],
 "metadata": {
  "kernelspec": {
   "display_name": "Python 3 (ipykernel)",
   "language": "python",
   "name": "python3"
  },
  "language_info": {
   "codemirror_mode": {
    "name": "ipython",
    "version": 3
   },
   "file_extension": ".py",
   "mimetype": "text/x-python",
   "name": "python",
   "nbconvert_exporter": "python",
   "pygments_lexer": "ipython3",
   "version": "3.10.6"
  }
 },
 "nbformat": 4,
 "nbformat_minor": 5
}
